{
  "nbformat": 4,
  "nbformat_minor": 0,
  "metadata": {
    "colab": {
      "name": "Bank Marketing UCI-V2.ipynb",
      "provenance": [],
      "collapsed_sections": [],
      "toc_visible": true,
      "authorship_tag": "ABX9TyM6idjB3GyBtlP5+yTZORAx",
      "include_colab_link": true
    },
    "kernelspec": {
      "name": "python3",
      "display_name": "Python 3"
    }
  },
  "cells": [
    {
      "cell_type": "markdown",
      "metadata": {
        "id": "view-in-github",
        "colab_type": "text"
      },
      "source": [
        "<a href=\"https://colab.research.google.com/github/jshankarrepo/ml-projects/blob/master/Bank_Marketing_UCI_V2.ipynb\" target=\"_parent\"><img src=\"https://colab.research.google.com/assets/colab-badge.svg\" alt=\"Open In Colab\"/></a>"
      ]
    },
    {
      "cell_type": "markdown",
      "metadata": {
        "id": "Xr46fcfGGyCt",
        "colab_type": "text"
      },
      "source": [
        "# **Bank Marketing UCI**"
      ]
    },
    {
      "cell_type": "markdown",
      "metadata": {
        "id": "PkL8dBoHRlKG",
        "colab_type": "text"
      },
      "source": [
        "## **1. Business/Real-world Problem**"
      ]
    },
    {
      "cell_type": "markdown",
      "metadata": {
        "id": "QN5mYHXGY7VR",
        "colab_type": "text"
      },
      "source": [
        "### **1.1 Problem Statement**\n"
      ]
    },
    {
      "cell_type": "markdown",
      "metadata": {
        "id": "v5ch9wdNZFr2",
        "colab_type": "text"
      },
      "source": [
        "The increasingly vast number of marketing campaigns\n",
        "over time has reduced its effect on the general public.\n",
        "Furthermore, economical pressures and competition has\n",
        "led marketing managers to invest on directed campaigns\n",
        "with a strict and rigorous selection of contacts. Such direct\n",
        "campaigns can be enhanced through the use of Business\n",
        "Intelligence (BI) and Data Mining (DM) techniques.\n",
        "\n",
        "\n",
        "**Source**: [USING DATA MINING FOR BANK DIRECT MARKETING:\n",
        "AN APPLICATION OF THE CRISP-DM METHODOLOGY](https://pdfs.semanticscholar.org/1999/417377ec21ecf7f7f55af62975065f785fb2.pdf)"
      ]
    },
    {
      "cell_type": "markdown",
      "metadata": {
        "id": "Bc0JdBdEbwbd",
        "colab_type": "text"
      },
      "source": [
        "### **1.2 Business Objectives**"
      ]
    },
    {
      "cell_type": "markdown",
      "metadata": {
        "id": "2FgYLU8Zb9FL",
        "colab_type": "text"
      },
      "source": [
        "The classification goal is to predict if the client will subscribe a term deposit (variable y)."
      ]
    },
    {
      "cell_type": "markdown",
      "metadata": {
        "id": "CMX7rg4zZ5wy",
        "colab_type": "text"
      },
      "source": [
        "### **1.3 Constraints**"
      ]
    },
    {
      "cell_type": "markdown",
      "metadata": {
        "id": "58LxotXhaFc7",
        "colab_type": "text"
      },
      "source": [
        "1. Low latency\n",
        "2. High Accurate Model"
      ]
    },
    {
      "cell_type": "markdown",
      "metadata": {
        "id": "GLVXYj9BaTmn",
        "colab_type": "text"
      },
      "source": [
        "## **2. Machine Learning Problem**"
      ]
    },
    {
      "cell_type": "markdown",
      "metadata": {
        "id": "HOJeyoqCalja",
        "colab_type": "text"
      },
      "source": [
        "### **2.1 Data Overview**"
      ]
    },
    {
      "cell_type": "code",
      "metadata": {
        "id": "inw00OwhGvBz",
        "colab_type": "code",
        "colab": {
          "base_uri": "https://localhost:8080/",
          "height": 34
        },
        "outputId": "815aa899-17f8-423b-8234-f509845751b7"
      },
      "source": [
        "from google.colab import drive\n",
        "drive.mount('/content/drive')"
      ],
      "execution_count": null,
      "outputs": [
        {
          "output_type": "stream",
          "text": [
            "Drive already mounted at /content/drive; to attempt to forcibly remount, call drive.mount(\"/content/drive\", force_remount=True).\n"
          ],
          "name": "stdout"
        }
      ]
    },
    {
      "cell_type": "code",
      "metadata": {
        "id": "NGCC59HYHXcu",
        "colab_type": "code",
        "colab": {
          "base_uri": "https://localhost:8080/",
          "height": 34
        },
        "outputId": "c54d856a-643c-4e21-dc32-c6a0f0b6adf1"
      },
      "source": [
        "# copy kaggle token file from google drive to colab\n",
        "!mkdir -p ~/.kaggle\n",
        "!cp \"/content/drive/My Drive/Colab Notebooks/kaggle/kaggle.json\" ~/.kaggle/\n",
        "!chmod 600 ~/.kaggle/kaggle.json\n",
        "!ls ~/.kaggle"
      ],
      "execution_count": null,
      "outputs": [
        {
          "output_type": "stream",
          "text": [
            "kaggle.json\n"
          ],
          "name": "stdout"
        }
      ]
    },
    {
      "cell_type": "code",
      "metadata": {
        "id": "NhvGKBRTHazQ",
        "colab_type": "code",
        "colab": {
          "base_uri": "https://localhost:8080/",
          "height": 102
        },
        "outputId": "7373de75-5113-4e47-8849-686a3d8021e5"
      },
      "source": [
        "!kaggle competitions download -c bank-marketing-uci"
      ],
      "execution_count": null,
      "outputs": [
        {
          "output_type": "stream",
          "text": [
            "Warning: Looks like you're using an outdated API Version, please consider updating (server 1.5.6 / client 1.5.4)\n",
            "sample%20submission%20.csv: Skipping, found more recently modified local copy (use --force to force download)\n",
            "bank-names.txt: Skipping, found more recently modified local copy (use --force to force download)\n",
            "test.csv: Skipping, found more recently modified local copy (use --force to force download)\n",
            "bank.csv: Skipping, found more recently modified local copy (use --force to force download)\n"
          ],
          "name": "stdout"
        }
      ]
    },
    {
      "cell_type": "markdown",
      "metadata": {
        "id": "Ff4n4WxIYDtv",
        "colab_type": "text"
      },
      "source": [
        "**Source** - https://www.kaggle.com/c/bank-marketing-uci\n",
        "\n",
        "\n",
        "**Description**: The data is related with direct marketing campaigns of a Portuguese banking institution.  The marketing campaigns were based on phone calls. Often, more than one contact to the same client was required, \n",
        " in order to access if the product (bank term deposit) would be (or not) subscribed.\n"
      ]
    },
    {
      "cell_type": "markdown",
      "metadata": {
        "id": "Tt8b6esVgix0",
        "colab_type": "text"
      },
      "source": [
        "**Input variables:**\n",
        "\n",
        "   1 - **age** (numeric)\n",
        "\n",
        "   2 - **job** : type of job (categorical: \"admin.\",\"unknown\",\"unemployed\",\"management\",\"housemaid\",\"entrepreneur\",\"student\",\"blue-collar\",\"self-employed\",\"retired\",\"technician\",\"services\") \n",
        "\n",
        "   3 - **marital** : marital status (categorical: \"married\",\"divorced\",\"single\"; note: \"divorced\" means divorced or widowed)\n",
        "\n",
        "   4 - **education** (categorical: \"unknown\",\"secondary\",\"primary\",\"tertiary\")\n",
        "\n",
        "   5 - **default**: has credit in default? (binary: \"yes\",\"no\")\n",
        "\n",
        "   6 - **balance**: average yearly balance, in euros (numeric) \n",
        "\n",
        "   7 - **housing**: has housing loan? (binary: \"yes\",\"no\")\n",
        "\n",
        "   8 - **loan**: has personal loan? (binary: \"yes\",\"no\")\n",
        "\n",
        "   ##### **INFO**: related with the last contact of the current campaign:\n",
        "   9 - **contact**: contact communication type (categorical: \"unknown\",\"telephone\",\"cellular\") \n",
        "\n",
        "  10 - **day**: last contact day of the month (numeric)\n",
        "\n",
        "  11 - **month**: last contact month of year (categorical: \"jan\", \"feb\", \"mar\", ..., \"nov\", \"dec\")\n",
        "\n",
        "  12 - **duration**: last contact duration, in seconds (numeric)\n",
        "   ##### **INFO**: other attributes:\n",
        "  13 - **campaign**: number of contacts performed during this campaign and for this client (numeric, includes last contact)\n",
        "\n",
        "  14 - **pdays**: number of days that passed by after the client was last contacted from a previous campaign (numeric, -1 means client was not previously contacted)\n",
        "\n",
        "  15 - **previous**: number of contacts performed before this campaign and for this client (numeric)\n",
        "  \n",
        "  16 - poutcome: outcome of the previous marketing campaign (categorical: \"unknown\",\"other\",\"failure\",\"success\")\n",
        "\n",
        "  **Output variable (desired target):**\n",
        "\n",
        "  17 - **y** - has the client subscribed a term deposit? (binary: \"yes\",\"no\")"
      ]
    },
    {
      "cell_type": "markdown",
      "metadata": {
        "id": "Itl15tJecO7-",
        "colab_type": "text"
      },
      "source": [
        "### **2.2 Mapping the real-world problem to an ML problem**"
      ]
    },
    {
      "cell_type": "markdown",
      "metadata": {
        "id": "82rWkPxicXnN",
        "colab_type": "text"
      },
      "source": [
        "#### **2.2.1 Type of Machine Learning Problem**"
      ]
    },
    {
      "cell_type": "markdown",
      "metadata": {
        "colab_type": "text",
        "id": "xVj1MsTScvzG"
      },
      "source": [
        "#### **2.2.2 Performance Matrix**"
      ]
    },
    {
      "cell_type": "markdown",
      "metadata": {
        "id": "TnSSA2Z4c5ef",
        "colab_type": "text"
      },
      "source": [
        "1. Precision - Recall - F1 Score \n",
        "2. Confusion Matrix\n",
        "3. Accuracy "
      ]
    },
    {
      "cell_type": "markdown",
      "metadata": {
        "colab_type": "text",
        "id": "29zWEdIRcwR5"
      },
      "source": [
        "#### **2.2.3 Machine Learning Objective and Constraints**"
      ]
    },
    {
      "cell_type": "markdown",
      "metadata": {
        "id": "y5uhenKBdgvo",
        "colab_type": "text"
      },
      "source": [
        "**Objective**: Predict the probability value of each data-point belonging to two class\n",
        "\n",
        "**Constraints:** Class probabilities are needed, Low latency constraints\n",
        "\n"
      ]
    },
    {
      "cell_type": "markdown",
      "metadata": {
        "colab_type": "text",
        "id": "5xg4AOXmcw5x"
      },
      "source": [
        "#### **2.2.4 Train and Test Dataset**"
      ]
    },
    {
      "cell_type": "markdown",
      "metadata": {
        "id": "XFjMqFHoftyT",
        "colab_type": "text"
      },
      "source": [
        "Split the dataset randomly into two groups train and test with 80-20% rule"
      ]
    },
    {
      "cell_type": "markdown",
      "metadata": {
        "id": "1B_YwE-eR63r",
        "colab_type": "text"
      },
      "source": [
        "## **3. Exploratory Data Analysis**"
      ]
    },
    {
      "cell_type": "code",
      "metadata": {
        "id": "vxNij7yU1bqU",
        "colab_type": "code",
        "colab": {
          "base_uri": "https://localhost:8080/",
          "height": 34
        },
        "outputId": "a58a7c56-0fa3-4309-e11e-32354c5b5306"
      },
      "source": [
        "# texttable used to create a model result summary in tablular form\n",
        "!pip install texttable"
      ],
      "execution_count": null,
      "outputs": [
        {
          "output_type": "stream",
          "text": [
            "Requirement already satisfied: texttable in /usr/local/lib/python3.6/dist-packages (1.6.2)\n"
          ],
          "name": "stdout"
        }
      ]
    },
    {
      "cell_type": "code",
      "metadata": {
        "id": "_kIWyxU5H_T1",
        "colab_type": "code",
        "colab": {}
      },
      "source": [
        "import pandas as pd\n",
        "import numpy as np\n",
        "\n",
        "import matplotlib.pyplot as plt\n",
        "plt.style.use('seaborn-dark-palette')\n",
        "\n",
        "import warnings\n",
        "warnings.filterwarnings('ignore')"
      ],
      "execution_count": null,
      "outputs": []
    },
    {
      "cell_type": "code",
      "metadata": {
        "id": "PBaeqdLbIld2",
        "colab_type": "code",
        "colab": {
          "base_uri": "https://localhost:8080/",
          "height": 34
        },
        "outputId": "cfe7970c-e992-47b8-d47c-8b9af50af654"
      },
      "source": [
        "df = pd.read_csv('bank.csv', ';')\n",
        "df.head()\n",
        "print(df.shape)"
      ],
      "execution_count": null,
      "outputs": [
        {
          "output_type": "stream",
          "text": [
            "(4521, 17)\n"
          ],
          "name": "stdout"
        }
      ]
    },
    {
      "cell_type": "code",
      "metadata": {
        "id": "SzpqbDYSdi_P",
        "colab_type": "code",
        "colab": {
          "base_uri": "https://localhost:8080/",
          "height": 34
        },
        "outputId": "313f1854-157a-4b63-aef2-db4ac6b5f87a"
      },
      "source": [
        "df_test = pd.read_csv('test.csv')\n",
        "df_test = df_test.drop(labels= ['Id'], axis='columns')\n",
        "df_test.head()\n",
        "print(df_test.shape)"
      ],
      "execution_count": null,
      "outputs": [
        {
          "output_type": "stream",
          "text": [
            "(427, 16)\n"
          ],
          "name": "stdout"
        }
      ]
    },
    {
      "cell_type": "code",
      "metadata": {
        "id": "H8OBGUJcfB85",
        "colab_type": "code",
        "colab": {
          "base_uri": "https://localhost:8080/",
          "height": 204
        },
        "outputId": "76706006-164c-4c48-b43f-c3b513ef21e0"
      },
      "source": [
        "# merge train and test set \n",
        "df = df.append(df_test).reset_index(drop=True)\n",
        "df.shape\n",
        "df.tail()"
      ],
      "execution_count": null,
      "outputs": [
        {
          "output_type": "execute_result",
          "data": {
            "text/html": [
              "<div>\n",
              "<style scoped>\n",
              "    .dataframe tbody tr th:only-of-type {\n",
              "        vertical-align: middle;\n",
              "    }\n",
              "\n",
              "    .dataframe tbody tr th {\n",
              "        vertical-align: top;\n",
              "    }\n",
              "\n",
              "    .dataframe thead th {\n",
              "        text-align: right;\n",
              "    }\n",
              "</style>\n",
              "<table border=\"1\" class=\"dataframe\">\n",
              "  <thead>\n",
              "    <tr style=\"text-align: right;\">\n",
              "      <th></th>\n",
              "      <th>age</th>\n",
              "      <th>job</th>\n",
              "      <th>marital</th>\n",
              "      <th>education</th>\n",
              "      <th>default</th>\n",
              "      <th>balance</th>\n",
              "      <th>housing</th>\n",
              "      <th>loan</th>\n",
              "      <th>contact</th>\n",
              "      <th>day</th>\n",
              "      <th>month</th>\n",
              "      <th>duration</th>\n",
              "      <th>campaign</th>\n",
              "      <th>pdays</th>\n",
              "      <th>previous</th>\n",
              "      <th>poutcome</th>\n",
              "      <th>y</th>\n",
              "    </tr>\n",
              "  </thead>\n",
              "  <tbody>\n",
              "    <tr>\n",
              "      <th>4943</th>\n",
              "      <td>26</td>\n",
              "      <td>blue-collar</td>\n",
              "      <td>single</td>\n",
              "      <td>secondary</td>\n",
              "      <td>no</td>\n",
              "      <td>82</td>\n",
              "      <td>yes</td>\n",
              "      <td>no</td>\n",
              "      <td>unknown</td>\n",
              "      <td>9</td>\n",
              "      <td>may</td>\n",
              "      <td>654</td>\n",
              "      <td>1</td>\n",
              "      <td>-1</td>\n",
              "      <td>0</td>\n",
              "      <td>unknown</td>\n",
              "      <td>NaN</td>\n",
              "    </tr>\n",
              "    <tr>\n",
              "      <th>4944</th>\n",
              "      <td>40</td>\n",
              "      <td>blue-collar</td>\n",
              "      <td>married</td>\n",
              "      <td>secondary</td>\n",
              "      <td>no</td>\n",
              "      <td>10</td>\n",
              "      <td>yes</td>\n",
              "      <td>no</td>\n",
              "      <td>unknown</td>\n",
              "      <td>9</td>\n",
              "      <td>may</td>\n",
              "      <td>1692</td>\n",
              "      <td>2</td>\n",
              "      <td>-1</td>\n",
              "      <td>0</td>\n",
              "      <td>unknown</td>\n",
              "      <td>NaN</td>\n",
              "    </tr>\n",
              "    <tr>\n",
              "      <th>4945</th>\n",
              "      <td>28</td>\n",
              "      <td>blue-collar</td>\n",
              "      <td>single</td>\n",
              "      <td>secondary</td>\n",
              "      <td>no</td>\n",
              "      <td>-197</td>\n",
              "      <td>yes</td>\n",
              "      <td>no</td>\n",
              "      <td>unknown</td>\n",
              "      <td>9</td>\n",
              "      <td>may</td>\n",
              "      <td>2016</td>\n",
              "      <td>2</td>\n",
              "      <td>-1</td>\n",
              "      <td>0</td>\n",
              "      <td>unknown</td>\n",
              "      <td>NaN</td>\n",
              "    </tr>\n",
              "    <tr>\n",
              "      <th>4946</th>\n",
              "      <td>33</td>\n",
              "      <td>blue-collar</td>\n",
              "      <td>divorced</td>\n",
              "      <td>primary</td>\n",
              "      <td>no</td>\n",
              "      <td>390</td>\n",
              "      <td>yes</td>\n",
              "      <td>no</td>\n",
              "      <td>unknown</td>\n",
              "      <td>9</td>\n",
              "      <td>may</td>\n",
              "      <td>665</td>\n",
              "      <td>2</td>\n",
              "      <td>-1</td>\n",
              "      <td>0</td>\n",
              "      <td>unknown</td>\n",
              "      <td>NaN</td>\n",
              "    </tr>\n",
              "    <tr>\n",
              "      <th>4947</th>\n",
              "      <td>45</td>\n",
              "      <td>blue-collar</td>\n",
              "      <td>married</td>\n",
              "      <td>primary</td>\n",
              "      <td>no</td>\n",
              "      <td>101</td>\n",
              "      <td>yes</td>\n",
              "      <td>no</td>\n",
              "      <td>unknown</td>\n",
              "      <td>12</td>\n",
              "      <td>may</td>\n",
              "      <td>460</td>\n",
              "      <td>5</td>\n",
              "      <td>-1</td>\n",
              "      <td>0</td>\n",
              "      <td>unknown</td>\n",
              "      <td>NaN</td>\n",
              "    </tr>\n",
              "  </tbody>\n",
              "</table>\n",
              "</div>"
            ],
            "text/plain": [
              "      age          job   marital  education  ... pdays  previous poutcome    y\n",
              "4943   26  blue-collar    single  secondary  ...    -1         0  unknown  NaN\n",
              "4944   40  blue-collar   married  secondary  ...    -1         0  unknown  NaN\n",
              "4945   28  blue-collar    single  secondary  ...    -1         0  unknown  NaN\n",
              "4946   33  blue-collar  divorced    primary  ...    -1         0  unknown  NaN\n",
              "4947   45  blue-collar   married    primary  ...    -1         0  unknown  NaN\n",
              "\n",
              "[5 rows x 17 columns]"
            ]
          },
          "metadata": {
            "tags": []
          },
          "execution_count": 8
        }
      ]
    },
    {
      "cell_type": "markdown",
      "metadata": {
        "id": "T16Nhm8HSje9",
        "colab_type": "text"
      },
      "source": [
        "###**3.1 Age**"
      ]
    },
    {
      "cell_type": "code",
      "metadata": {
        "id": "NukoTUhgSEpf",
        "colab_type": "code",
        "colab": {
          "base_uri": "https://localhost:8080/",
          "height": 51
        },
        "outputId": "1fd13a1a-5124-4df2-e229-68f1d6791f7c"
      },
      "source": [
        "print(\"Age: Null values: \",df['age'].isnull().sum())\n",
        "print(\"Age: Min: {} and Max: {} values\".format(df['age'].min(), df['age'].max()))"
      ],
      "execution_count": null,
      "outputs": [
        {
          "output_type": "stream",
          "text": [
            "Age: Null values:  0\n",
            "Age: Min: 19 and Max: 87 values\n"
          ],
          "name": "stdout"
        }
      ]
    },
    {
      "cell_type": "code",
      "metadata": {
        "id": "z3xp-_mtgQ51",
        "colab_type": "code",
        "colab": {
          "base_uri": "https://localhost:8080/",
          "height": 460
        },
        "outputId": "0bf7c16c-ee04-4fc4-c4cc-edf3c8490c45"
      },
      "source": [
        "plt.figure(figsize=(15, 7))\n",
        "num_bins = 10\n",
        "n, bins, patches = plt.hist(df.age.sort_values(), num_bins, facecolor='blue', alpha=0.5)\n",
        "plt.xticks(bins)\n",
        "plt.grid(axis='y', alpha=0.75)\n",
        "plt.xlabel('Age')\n",
        "plt.ylabel('Frequency')\n",
        "plt.title('Age: Histogram',fontsize=15)\n",
        "plt.show()\n",
        "plt.close()"
      ],
      "execution_count": null,
      "outputs": [
        {
          "output_type": "display_data",
          "data": {
            "image/png": "[encoded data removed]",
            "text/plain": [
              "<Figure size 1080x504 with 1 Axes>"
            ]
          },
          "metadata": {
            "tags": [],
            "needs_background": "light"
          }
        }
      ]
    },
    {
      "cell_type": "markdown",
      "metadata": {
        "id": "H66BPmIpVJXC",
        "colab_type": "text"
      },
      "source": [
        "The customer mostly falls in the range of 25 to 60 age groups."
      ]
    },
    {
      "cell_type": "code",
      "metadata": {
        "id": "SJpWwxAsz9r0",
        "colab_type": "code",
        "colab": {}
      },
      "source": [
        "df['age'] = df['age'].astype('int64')"
      ],
      "execution_count": null,
      "outputs": []
    },
    {
      "cell_type": "markdown",
      "metadata": {
        "id": "PiVoEyRUU6Tu",
        "colab_type": "text"
      },
      "source": [
        "### **3.2 Job**"
      ]
    },
    {
      "cell_type": "code",
      "metadata": {
        "id": "DFHrYWbkSHB0",
        "colab_type": "code",
        "colab": {
          "base_uri": "https://localhost:8080/",
          "height": 85
        },
        "outputId": "c2495445-86c9-4075-f9ed-86fb07b3bb0e"
      },
      "source": [
        "print(\"Job: Null values: \", df['job'].isnull().sum())\n",
        "print(\"Job: Categories\", df['job'].unique())"
      ],
      "execution_count": null,
      "outputs": [
        {
          "output_type": "stream",
          "text": [
            "Job: Null values:  0\n",
            "Job: Categories ['unemployed' 'services' 'management' 'blue-collar' 'self-employed'\n",
            " 'technician' 'entrepreneur' 'admin.' 'student' 'housemaid' 'retired'\n",
            " 'unknown']\n"
          ],
          "name": "stdout"
        }
      ]
    },
    {
      "cell_type": "code",
      "metadata": {
        "id": "MCFy0haOk7yZ",
        "colab_type": "code",
        "colab": {
          "base_uri": "https://localhost:8080/",
          "height": 468
        },
        "outputId": "27d60b90-48dc-4921-b524-da8603d07c79"
      },
      "source": [
        "plt.figure(figsize=(15, 7))\n",
        "plt.bar(df['job'].sort_values().unique(),df['job'].value_counts(),align='center', alpha=0.5)\n",
        "plt.xlabel(\"Job Titles\", fontsize= 15)\n",
        "plt.ylabel(\"Frequency\", fontsize= 15)\n",
        "plt.title(\"Job Frequency Bar Chart\", fontsize = 20)\n",
        "plt.show()\n",
        "plt.close()"
      ],
      "execution_count": null,
      "outputs": [
        {
          "output_type": "display_data",
          "data": {
            "image/png": "[encoded data removed]",
            "text/plain": [
              "<Figure size 1080x504 with 1 Axes>"
            ]
          },
          "metadata": {
            "tags": [],
            "needs_background": "light"
          }
        }
      ]
    },
    {
      "cell_type": "markdown",
      "metadata": {
        "id": "BRhPB4STVoqL",
        "colab_type": "text"
      },
      "source": [
        "Admin, blue-collar and entrepreneur are the top 3 job sectors who a"
      ]
    },
    {
      "cell_type": "code",
      "metadata": {
        "id": "G39a1f5R0S8w",
        "colab_type": "code",
        "colab": {}
      },
      "source": [
        "df['job'] = df['job'].astype('category')"
      ],
      "execution_count": null,
      "outputs": []
    },
    {
      "cell_type": "markdown",
      "metadata": {
        "id": "EO0P3P-xWIo5",
        "colab_type": "text"
      },
      "source": [
        "### **3.3 Marital Status**"
      ]
    },
    {
      "cell_type": "code",
      "metadata": {
        "id": "yCxYZQobU9FZ",
        "colab_type": "code",
        "colab": {
          "base_uri": "https://localhost:8080/",
          "height": 51
        },
        "outputId": "6d7a4653-d096-4bdc-d19d-6139c86a112b"
      },
      "source": [
        "print(\"Marital: Null values: \", df['marital'].isnull().sum())\n",
        "print(\"Marital: Categories\", df['marital'].unique())"
      ],
      "execution_count": null,
      "outputs": [
        {
          "output_type": "stream",
          "text": [
            "Marital: Null values:  0\n",
            "Marital: Categories ['married' 'single' 'divorced']\n"
          ],
          "name": "stdout"
        }
      ]
    },
    {
      "cell_type": "code",
      "metadata": {
        "id": "75jsGvmwnr6I",
        "colab_type": "code",
        "colab": {
          "base_uri": "https://localhost:8080/",
          "height": 468
        },
        "outputId": "ebc3dae3-eb9c-45b2-c0c4-7d6028795751"
      },
      "source": [
        "plt.figure(figsize=(15, 7))\n",
        "plt.bar(df['marital'].sort_values().unique(),df['marital'].value_counts(),align='center', alpha=0.5)\n",
        "plt.xlabel(\"Marital Titles\", fontsize= 15)\n",
        "plt.ylabel(\"Frequency\", fontsize= 15)\n",
        "plt.title(\"Marital Bar Chart\", fontsize = 20)\n",
        "plt.show()\n",
        "plt.close()"
      ],
      "execution_count": null,
      "outputs": [
        {
          "output_type": "display_data",
          "data": {
            "image/png": "[encoded data removed]",
            "text/plain": [
              "<Figure size 1080x504 with 1 Axes>"
            ]
          },
          "metadata": {
            "tags": [],
            "needs_background": "light"
          }
        }
      ]
    },
    {
      "cell_type": "markdown",
      "metadata": {
        "id": "YZFSeSGFWYeL",
        "colab_type": "text"
      },
      "source": [
        "Marital has 4 categories"
      ]
    },
    {
      "cell_type": "code",
      "metadata": {
        "id": "4VoGJ4TQ0YrR",
        "colab_type": "code",
        "colab": {}
      },
      "source": [
        "df['marital'] = df['marital'].astype('category')"
      ],
      "execution_count": null,
      "outputs": []
    },
    {
      "cell_type": "markdown",
      "metadata": {
        "id": "a5tPzK7mWdrZ",
        "colab_type": "text"
      },
      "source": [
        "### **3.4. Education**"
      ]
    },
    {
      "cell_type": "code",
      "metadata": {
        "id": "DXbxr8doWBrE",
        "colab_type": "code",
        "colab": {
          "base_uri": "https://localhost:8080/",
          "height": 68
        },
        "outputId": "2182aa74-cc08-454e-dd0a-b9be44b7067d"
      },
      "source": [
        "print(\"Education: Null values: \", df['education'].isnull().sum())\n",
        "print(\"Education: Categories\", df['education'].unique())\n",
        "\n",
        "# Map basic eduction `['basic.4y', 'basic.6y', 'basic.9y']` to basic to simplify eduction types\n",
        "basic_edu_mapper = lambda x : 'basic' if x in ['basic.4y', 'basic.6y', 'basic.9y']   else x\n",
        "df['education'] = df['education'].map(basic_edu_mapper)\n",
        "\n",
        "print(\"Education: Categories\", df['education'].unique())"
      ],
      "execution_count": null,
      "outputs": [
        {
          "output_type": "stream",
          "text": [
            "Education: Null values:  0\n",
            "Education: Categories ['primary' 'secondary' 'tertiary' 'unknown']\n",
            "Education: Categories ['primary' 'secondary' 'tertiary' 'unknown']\n"
          ],
          "name": "stdout"
        }
      ]
    },
    {
      "cell_type": "code",
      "metadata": {
        "id": "qQpwo_Mhn6Y-",
        "colab_type": "code",
        "colab": {
          "base_uri": "https://localhost:8080/",
          "height": 468
        },
        "outputId": "e71d332f-c625-4995-e8e0-09e3922f8f42"
      },
      "source": [
        "plt.figure(figsize=(15, 7))\n",
        "plt.bar(df['education'].sort_values().unique(),df['education'].value_counts(),align='center', alpha=0.5)\n",
        "plt.xlabel(\"Education Titles\", fontsize= 15)\n",
        "plt.ylabel(\"Frequency\", fontsize= 15)\n",
        "plt.title(\"Education Marital Bar Chart\", fontsize = 20)\n",
        "plt.show()\n",
        "plt.close()"
      ],
      "execution_count": null,
      "outputs": [
        {
          "output_type": "display_data",
          "data": {
            "image/png": "[encoded data removed]",
            "text/plain": [
              "<Figure size 1080x504 with 1 Axes>"
            ]
          },
          "metadata": {
            "tags": [],
            "needs_background": "light"
          }
        }
      ]
    },
    {
      "cell_type": "markdown",
      "metadata": {
        "id": "sZpwfzXO0dBQ",
        "colab_type": "text"
      },
      "source": [
        "Education is a Categorical Type"
      ]
    },
    {
      "cell_type": "code",
      "metadata": {
        "id": "G13_FaUO0ckP",
        "colab_type": "code",
        "colab": {}
      },
      "source": [
        "df['education'] = df['education'].astype('category')"
      ],
      "execution_count": null,
      "outputs": []
    },
    {
      "cell_type": "markdown",
      "metadata": {
        "id": "R91EIgIzYas6",
        "colab_type": "text"
      },
      "source": [
        "### **3.5. Default - has credit in default?**"
      ]
    },
    {
      "cell_type": "code",
      "metadata": {
        "id": "TiUff-ilWgQb",
        "colab_type": "code",
        "colab": {
          "base_uri": "https://localhost:8080/",
          "height": 51
        },
        "outputId": "4df8ee92-b5fb-4f91-efb4-7a88c334d87c"
      },
      "source": [
        "print(\"Default: Null values: \", df['default'].isnull().sum())\n",
        "print(\"Default: Categories\", df['default'].unique())"
      ],
      "execution_count": null,
      "outputs": [
        {
          "output_type": "stream",
          "text": [
            "Default: Null values:  0\n",
            "Default: Categories ['no' 'yes']\n"
          ],
          "name": "stdout"
        }
      ]
    },
    {
      "cell_type": "code",
      "metadata": {
        "id": "2fEGi36FoA1v",
        "colab_type": "code",
        "colab": {
          "base_uri": "https://localhost:8080/",
          "height": 305
        },
        "outputId": "f90782a2-91d5-4c7d-d513-6d6ee88861ed"
      },
      "source": [
        "plt.figure(figsize=(15, 4))\n",
        "plt.barh(df['default'].sort_values().unique(),df['default'].value_counts(),align='center', alpha=0.5)\n",
        "plt.xlabel(\"Frequency\", fontsize= 15)\n",
        "plt.ylabel(\"Frequency Category\", fontsize= 15)\n",
        "plt.title(\"Default Horizontal Bar Chart\", fontsize = 20)\n",
        "plt.show()\n",
        "plt.close()"
      ],
      "execution_count": null,
      "outputs": [
        {
          "output_type": "display_data",
          "data": {
            "image/png": "[encoded data removed]",
            "text/plain": [
              "<Figure size 1080x288 with 1 Axes>"
            ]
          },
          "metadata": {
            "tags": [],
            "needs_background": "light"
          }
        }
      ]
    },
    {
      "cell_type": "markdown",
      "metadata": {
        "id": "ncf5BtvuY7qa",
        "colab_type": "text"
      },
      "source": [
        "Default is categorical type"
      ]
    },
    {
      "cell_type": "code",
      "metadata": {
        "id": "mCChfIvw0jgw",
        "colab_type": "code",
        "colab": {}
      },
      "source": [
        "df['default'] = df['default'].astype('bool')"
      ],
      "execution_count": null,
      "outputs": []
    },
    {
      "cell_type": "markdown",
      "metadata": {
        "id": "8bv_M-0uaOJn",
        "colab_type": "text"
      },
      "source": [
        "### **3.6 Housing - has housing loan?**"
      ]
    },
    {
      "cell_type": "code",
      "metadata": {
        "id": "4474Zq14Yikx",
        "colab_type": "code",
        "colab": {
          "base_uri": "https://localhost:8080/",
          "height": 51
        },
        "outputId": "12722652-3622-4720-884b-ebaec3d773e7"
      },
      "source": [
        "print(\"Housing: Null values: \", df['housing'].isnull().sum())\n",
        "print(\"Housing: Categories\", df['housing'].unique())"
      ],
      "execution_count": null,
      "outputs": [
        {
          "output_type": "stream",
          "text": [
            "Housing: Null values:  0\n",
            "Housing: Categories ['no' 'yes']\n"
          ],
          "name": "stdout"
        }
      ]
    },
    {
      "cell_type": "code",
      "metadata": {
        "id": "C2CcQSZ_oeL_",
        "colab_type": "code",
        "colab": {
          "base_uri": "https://localhost:8080/",
          "height": 305
        },
        "outputId": "d426a357-ed74-4228-8953-efe739bc5793"
      },
      "source": [
        "plt.figure(figsize=(15, 4))\n",
        "plt.barh(df['housing'].sort_values().unique(),df['housing'].value_counts(),align='center', alpha=0.5)\n",
        "plt.xlabel(\"Frequency\", fontsize= 15)\n",
        "plt.ylabel(\"Housing Categories\", fontsize= 15)\n",
        "plt.title(\"Housing Horizontal Bar Chart\", fontsize = 20)\n",
        "plt.show()\n",
        "plt.close()"
      ],
      "execution_count": null,
      "outputs": [
        {
          "output_type": "display_data",
          "data": {
            "image/png": "[encoded data removed]",
            "text/plain": [
              "<Figure size 1080x288 with 1 Axes>"
            ]
          },
          "metadata": {
            "tags": [],
            "needs_background": "light"
          }
        }
      ]
    },
    {
      "cell_type": "markdown",
      "metadata": {
        "id": "F8-S00HcaIjP",
        "colab_type": "text"
      },
      "source": [
        "Housing is categorical type"
      ]
    },
    {
      "cell_type": "code",
      "metadata": {
        "id": "MCo2_L-40ohU",
        "colab_type": "code",
        "colab": {}
      },
      "source": [
        "df['housing'] = df['housing'].astype('bool')"
      ],
      "execution_count": null,
      "outputs": []
    },
    {
      "cell_type": "markdown",
      "metadata": {
        "id": "kg2bUvAeaLnT",
        "colab_type": "text"
      },
      "source": [
        "### **3.7 Loan: has personal loan?** "
      ]
    },
    {
      "cell_type": "code",
      "metadata": {
        "id": "eFH4rn74aFes",
        "colab_type": "code",
        "colab": {
          "base_uri": "https://localhost:8080/",
          "height": 51
        },
        "outputId": "c38a804e-1f15-4b08-8dc8-9e3be7de4749"
      },
      "source": [
        "print(\"Loan: Null values: \", df['loan'].isnull().sum())\n",
        "print(\"Loan: Categories\", df['loan'].unique())"
      ],
      "execution_count": null,
      "outputs": [
        {
          "output_type": "stream",
          "text": [
            "Loan: Null values:  0\n",
            "Loan: Categories ['no' 'yes']\n"
          ],
          "name": "stdout"
        }
      ]
    },
    {
      "cell_type": "code",
      "metadata": {
        "id": "hTFG1qgioveU",
        "colab_type": "code",
        "colab": {
          "base_uri": "https://localhost:8080/",
          "height": 305
        },
        "outputId": "55a2d5f8-8d18-4deb-9322-0414b983d3e8"
      },
      "source": [
        "plt.figure(figsize=(15, 4))\n",
        "plt.barh(df['loan'].sort_values().unique(),df['loan'].value_counts(),align='center', alpha=0.5)\n",
        "plt.xlabel(\"Frequency\", fontsize= 15)\n",
        "plt.ylabel(\"Loan Categories\", fontsize= 15)\n",
        "plt.title(\"Loan Horizontal Bar Chart\", fontsize = 20)\n",
        "plt.show()\n",
        "plt.close()"
      ],
      "execution_count": null,
      "outputs": [
        {
          "output_type": "display_data",
          "data": {
            "image/png": "[encoded data removed]",
            "text/plain": [
              "<Figure size 1080x288 with 1 Axes>"
            ]
          },
          "metadata": {
            "tags": [],
            "needs_background": "light"
          }
        }
      ]
    },
    {
      "cell_type": "markdown",
      "metadata": {
        "id": "l4_P6q--agMi",
        "colab_type": "text"
      },
      "source": [
        "Laon is Categorical type"
      ]
    },
    {
      "cell_type": "code",
      "metadata": {
        "id": "J6hynKnH0tDu",
        "colab_type": "code",
        "colab": {}
      },
      "source": [
        "df['loan'] = df['loan'].astype('bool')"
      ],
      "execution_count": null,
      "outputs": []
    },
    {
      "cell_type": "markdown",
      "metadata": {
        "id": "ZrkKOlmeak8-",
        "colab_type": "text"
      },
      "source": [
        "### **3.8 Contact: Contact Communication Type**"
      ]
    },
    {
      "cell_type": "code",
      "metadata": {
        "id": "hxnNektiaesS",
        "colab_type": "code",
        "colab": {
          "base_uri": "https://localhost:8080/",
          "height": 51
        },
        "outputId": "8e189c91-f62f-4458-d3ed-da35ab92732a"
      },
      "source": [
        "print(\"Contact: Null values: \", df['contact'].isnull().sum())\n",
        "print(\"Contact: Categories\", df['contact'].unique())"
      ],
      "execution_count": null,
      "outputs": [
        {
          "output_type": "stream",
          "text": [
            "Contact: Null values:  0\n",
            "Contact: Categories ['cellular' 'unknown' 'telephone']\n"
          ],
          "name": "stdout"
        }
      ]
    },
    {
      "cell_type": "code",
      "metadata": {
        "id": "k6wFZGNVo4bJ",
        "colab_type": "code",
        "colab": {
          "base_uri": "https://localhost:8080/",
          "height": 305
        },
        "outputId": "c0a8f93f-a09e-4345-e7b1-d3ea4537fdbc"
      },
      "source": [
        "plt.figure(figsize=(15, 4))\n",
        "plt.barh(df['contact'].sort_values().unique(),df['contact'].value_counts(),align='center', alpha=0.5)\n",
        "plt.xlabel(\"Frequency\", fontsize= 15)\n",
        "plt.ylabel(\"Contact Types\", fontsize= 15)\n",
        "plt.title(\"Contact Horizontal Bar Chart\", fontsize = 20)\n",
        "plt.show()\n",
        "plt.close()"
      ],
      "execution_count": null,
      "outputs": [
        {
          "output_type": "display_data",
          "data": {
            "image/png": "[encoded data removed]",
            "text/plain": [
              "<Figure size 1080x288 with 1 Axes>"
            ]
          },
          "metadata": {
            "tags": [],
            "needs_background": "light"
          }
        }
      ]
    },
    {
      "cell_type": "markdown",
      "metadata": {
        "id": "eCBphgCSa1yG",
        "colab_type": "text"
      },
      "source": [
        "Contact is a Categorical Type"
      ]
    },
    {
      "cell_type": "code",
      "metadata": {
        "id": "ANSsXNld0yf_",
        "colab_type": "code",
        "colab": {}
      },
      "source": [
        "df['contact'] = df['contact'].astype('category')"
      ],
      "execution_count": null,
      "outputs": []
    },
    {
      "cell_type": "markdown",
      "metadata": {
        "id": "O6rGX_tabBf2",
        "colab_type": "text"
      },
      "source": [
        "### **3.9 Month: last contact month of year**"
      ]
    },
    {
      "cell_type": "code",
      "metadata": {
        "id": "uOWUbcHoa1B2",
        "colab_type": "code",
        "colab": {
          "base_uri": "https://localhost:8080/",
          "height": 51
        },
        "outputId": "6d83db80-9da6-450c-a72b-061bd11f239a"
      },
      "source": [
        "print(\"Month: Null values: \", df['month'].isnull().sum())\n",
        "print(\"Month: Categories\", df['month'].unique())"
      ],
      "execution_count": null,
      "outputs": [
        {
          "output_type": "stream",
          "text": [
            "Month: Null values:  0\n",
            "Month: Categories ['oct' 'may' 'apr' 'jun' 'feb' 'aug' 'jan' 'jul' 'nov' 'sep' 'mar' 'dec']\n"
          ],
          "name": "stdout"
        }
      ]
    },
    {
      "cell_type": "code",
      "metadata": {
        "id": "OAUuKaG6pE7u",
        "colab_type": "code",
        "colab": {
          "base_uri": "https://localhost:8080/",
          "height": 468
        },
        "outputId": "717f9229-c35f-44a2-9b40-f07dc79b5055"
      },
      "source": [
        "plt.figure(figsize=(15, 7))\n",
        "plt.bar(df['month'].sort_values().unique(),df['month'].value_counts(),align='center', alpha=0.5)\n",
        "plt.xlabel(\"Month Titles\", fontsize= 15)\n",
        "plt.ylabel(\"Frequency\", fontsize= 15)\n",
        "plt.title(\"Month Bar Chart\", fontsize = 20)\n",
        "plt.show()\n",
        "plt.close()"
      ],
      "execution_count": null,
      "outputs": [
        {
          "output_type": "display_data",
          "data": {
            "image/png": "[encoded data removed]",
            "text/plain": [
              "<Figure size 1080x504 with 1 Axes>"
            ]
          },
          "metadata": {
            "tags": [],
            "needs_background": "light"
          }
        }
      ]
    },
    {
      "cell_type": "markdown",
      "metadata": {
        "id": "X0UoXoINbMW4",
        "colab_type": "text"
      },
      "source": [
        "Month is a Categorical Type"
      ]
    },
    {
      "cell_type": "code",
      "metadata": {
        "id": "nggMqyXE04Nw",
        "colab_type": "code",
        "colab": {}
      },
      "source": [
        "df['month'] = df['month'].astype('category')"
      ],
      "execution_count": null,
      "outputs": []
    },
    {
      "cell_type": "markdown",
      "metadata": {
        "id": "GOCcONW4bi_l",
        "colab_type": "text"
      },
      "source": [
        "###**3.10. Duration**"
      ]
    },
    {
      "cell_type": "code",
      "metadata": {
        "id": "4wovq0JGbP23",
        "colab_type": "code",
        "colab": {
          "base_uri": "https://localhost:8080/",
          "height": 51
        },
        "outputId": "5e8ed9ec-9487-4926-fcd5-3473f32f110b"
      },
      "source": [
        "print(\"Duration: Null values: \", df['duration'].isnull().sum())\n",
        "print(\"Duration: Min: {} and Max: {} values\".format(df['duration'].min(), df['duration'].max()))"
      ],
      "execution_count": null,
      "outputs": [
        {
          "output_type": "stream",
          "text": [
            "Duration: Null values:  0\n",
            "Duration: Min: 2 and Max: 3025 values\n"
          ],
          "name": "stdout"
        }
      ]
    },
    {
      "cell_type": "code",
      "metadata": {
        "id": "Am4KtqJjpcNo",
        "colab_type": "code",
        "colab": {
          "base_uri": "https://localhost:8080/",
          "height": 460
        },
        "outputId": "6af8666f-ef26-4178-8363-6706af4bbe8c"
      },
      "source": [
        "plt.figure(figsize=(15, 7))\n",
        "num_bins = 10\n",
        "n, bins, patches = plt.hist(df.duration.sort_values(), num_bins, facecolor='blue', alpha=0.5)\n",
        "plt.xticks(bins)\n",
        "plt.grid(axis='y', alpha=0.75)\n",
        "plt.xlabel('Duration')\n",
        "plt.ylabel('Frequency')\n",
        "plt.title('Duration: Histogram',fontsize=15)\n",
        "plt.show()\n",
        "plt.close()"
      ],
      "execution_count": null,
      "outputs": [
        {
          "output_type": "display_data",
          "data": {
            "image/png": "[encoded data removed]",
            "text/plain": [
              "<Figure size 1080x504 with 1 Axes>"
            ]
          },
          "metadata": {
            "tags": [],
            "needs_background": "light"
          }
        }
      ]
    },
    {
      "cell_type": "markdown",
      "metadata": {
        "id": "wqG4DALIb1Nu",
        "colab_type": "text"
      },
      "source": [
        "Duration is a Numerical Type"
      ]
    },
    {
      "cell_type": "code",
      "metadata": {
        "id": "xulNMWc01BDw",
        "colab_type": "code",
        "colab": {}
      },
      "source": [
        "df['duration'] = df['duration'].astype('int64')"
      ],
      "execution_count": null,
      "outputs": []
    },
    {
      "cell_type": "markdown",
      "metadata": {
        "id": "Pcm5-Z7Tb3MI",
        "colab_type": "text"
      },
      "source": [
        "### **3.11. Campaign - number of contacts performed during this campaign and for this client**"
      ]
    },
    {
      "cell_type": "code",
      "metadata": {
        "id": "z7SfzyBlb2zl",
        "colab_type": "code",
        "colab": {
          "base_uri": "https://localhost:8080/",
          "height": 51
        },
        "outputId": "756822a5-0906-49de-de9c-83149d770c9a"
      },
      "source": [
        "print(\"Campaign: Null values: \", df['campaign'].isnull().sum())\n",
        "print(\"Campaign: Min: {} and Max: {} values\".format(df['campaign'].min(), df['campaign'].max()))"
      ],
      "execution_count": null,
      "outputs": [
        {
          "output_type": "stream",
          "text": [
            "Campaign: Null values:  0\n",
            "Campaign: Min: 1 and Max: 50 values\n"
          ],
          "name": "stdout"
        }
      ]
    },
    {
      "cell_type": "code",
      "metadata": {
        "id": "OgaVC_XopuSG",
        "colab_type": "code",
        "colab": {
          "base_uri": "https://localhost:8080/",
          "height": 460
        },
        "outputId": "318dac38-0c85-4e09-c522-8035a837b152"
      },
      "source": [
        "plt.figure(figsize=(15, 7))\n",
        "num_bins = 5\n",
        "n, bins, patches = plt.hist(df.campaign.sort_values(), num_bins, facecolor='blue', alpha=0.5)\n",
        "plt.xticks(bins)\n",
        "plt.grid(axis='y', alpha=0.75)\n",
        "plt.xlabel('Campaign')\n",
        "plt.ylabel('Frequency')\n",
        "plt.title('Campaign: Histogram',fontsize=15)\n",
        "plt.show()\n",
        "plt.close()"
      ],
      "execution_count": null,
      "outputs": [
        {
          "output_type": "display_data",
          "data": {
            "image/png": "[encoded data removed]",
            "text/plain": [
              "<Figure size 1080x504 with 1 Axes>"
            ]
          },
          "metadata": {
            "tags": [],
            "needs_background": "light"
          }
        }
      ]
    },
    {
      "cell_type": "markdown",
      "metadata": {
        "id": "l4klYWfbcSG1",
        "colab_type": "text"
      },
      "source": [
        "Campaign is a Numerical Type"
      ]
    },
    {
      "cell_type": "code",
      "metadata": {
        "id": "okPLwMSb1H_P",
        "colab_type": "code",
        "colab": {}
      },
      "source": [
        "df['campaign'] = df['campaign'].astype('int64')"
      ],
      "execution_count": null,
      "outputs": []
    },
    {
      "cell_type": "markdown",
      "metadata": {
        "id": "XNfpv2aJcUJv",
        "colab_type": "text"
      },
      "source": [
        "### **3.12 pdays - number of days that passed by after the client was last contacted from a previous campaign**"
      ]
    },
    {
      "cell_type": "code",
      "metadata": {
        "id": "CnQHDu93bxPX",
        "colab_type": "code",
        "colab": {
          "base_uri": "https://localhost:8080/",
          "height": 51
        },
        "outputId": "54ac5201-6a31-42db-dd95-25b770dc48cf"
      },
      "source": [
        "print(\"Pdays: Null values: \", df['pdays'].isnull().sum())\n",
        "print(\"Pdays: Min: {} and Max: {} values\".format(df['pdays'].min(), df['pdays'].max()))"
      ],
      "execution_count": null,
      "outputs": [
        {
          "output_type": "stream",
          "text": [
            "Pdays: Null values:  0\n",
            "Pdays: Min: -1 and Max: 871 values\n"
          ],
          "name": "stdout"
        }
      ]
    },
    {
      "cell_type": "code",
      "metadata": {
        "id": "lPiAQ-wTp_9G",
        "colab_type": "code",
        "colab": {
          "base_uri": "https://localhost:8080/",
          "height": 460
        },
        "outputId": "0aca220e-240a-4267-c137-86ff2a9fe2b0"
      },
      "source": [
        "plt.figure(figsize=(15, 7))\n",
        "num_bins = 5\n",
        "n, bins, patches = plt.hist(df.pdays.sort_values(), num_bins, facecolor='blue', alpha=0.5)\n",
        "plt.xticks(bins)\n",
        "plt.grid(axis='y', alpha=0.75)\n",
        "plt.xlabel('pdays')\n",
        "plt.ylabel('Frequency')\n",
        "plt.title('Previous Campaign Contact: Histogram',fontsize=15)\n",
        "plt.show()\n",
        "plt.close()"
      ],
      "execution_count": null,
      "outputs": [
        {
          "output_type": "display_data",
          "data": {
            "image/png": "[encoded data removed]",
            "text/plain": [
              "<Figure size 1080x504 with 1 Axes>"
            ]
          },
          "metadata": {
            "tags": [],
            "needs_background": "light"
          }
        }
      ]
    },
    {
      "cell_type": "markdown",
      "metadata": {
        "id": "pZ26vumYcidV",
        "colab_type": "text"
      },
      "source": [
        "Pdays is a Numerical Type"
      ]
    },
    {
      "cell_type": "code",
      "metadata": {
        "id": "w5T5chHv1NL2",
        "colab_type": "code",
        "colab": {}
      },
      "source": [
        "df['pdays'] = df['pdays'].astype('int64')"
      ],
      "execution_count": null,
      "outputs": []
    },
    {
      "cell_type": "markdown",
      "metadata": {
        "id": "lETNJlVKcl9p",
        "colab_type": "text"
      },
      "source": [
        "### **3.13 previous: number of contacts performed before this campaign and for this client**"
      ]
    },
    {
      "cell_type": "code",
      "metadata": {
        "id": "BdoMyhWYbpqF",
        "colab_type": "code",
        "colab": {
          "base_uri": "https://localhost:8080/",
          "height": 51
        },
        "outputId": "16b5b421-5c2c-40cf-d4ee-59c07366db37"
      },
      "source": [
        "print(\"Previous: Null values: \", df['previous'].isnull().sum())\n",
        "print(\"Previous: Min: {} and Max: {} values\".format(df['previous'].min(), df['previous'].max()))"
      ],
      "execution_count": null,
      "outputs": [
        {
          "output_type": "stream",
          "text": [
            "Previous: Null values:  0\n",
            "Previous: Min: 0 and Max: 25 values\n"
          ],
          "name": "stdout"
        }
      ]
    },
    {
      "cell_type": "code",
      "metadata": {
        "id": "H691k3ZiqTda",
        "colab_type": "code",
        "colab": {
          "base_uri": "https://localhost:8080/",
          "height": 460
        },
        "outputId": "7f64ad21-8e66-4aa2-9fb6-06da3aba4ea6"
      },
      "source": [
        "plt.figure(figsize=(15, 7))\n",
        "num_bins = 5\n",
        "n, bins, patches = plt.hist(df.previous.sort_values(), num_bins, facecolor='blue', alpha=0.5)\n",
        "plt.xticks(bins)\n",
        "plt.grid(axis='y', alpha=0.75)\n",
        "plt.xlabel('Previous')\n",
        "plt.ylabel('Frequency')\n",
        "plt.title('Previous: Histogram',fontsize=15)\n",
        "plt.show()\n",
        "plt.close()"
      ],
      "execution_count": null,
      "outputs": [
        {
          "output_type": "display_data",
          "data": {
            "image/png": "[encoded data removed]",
            "text/plain": [
              "<Figure size 1080x504 with 1 Axes>"
            ]
          },
          "metadata": {
            "tags": [],
            "needs_background": "light"
          }
        }
      ]
    },
    {
      "cell_type": "markdown",
      "metadata": {
        "id": "Y4T5q5MGcxcR",
        "colab_type": "text"
      },
      "source": [
        "Previous is a Numerical Type - most of them are 0 "
      ]
    },
    {
      "cell_type": "code",
      "metadata": {
        "id": "1pcM5s3f1TSf",
        "colab_type": "code",
        "colab": {}
      },
      "source": [
        "df['previous'] = df['previous'].astype('int64')"
      ],
      "execution_count": null,
      "outputs": []
    },
    {
      "cell_type": "markdown",
      "metadata": {
        "id": "RjdwznvbczVP",
        "colab_type": "text"
      },
      "source": [
        "### **3.14 poutcome: outcome of the previous marketing campaign**"
      ]
    },
    {
      "cell_type": "code",
      "metadata": {
        "id": "pFN8fTwKdCqQ",
        "colab_type": "code",
        "colab": {
          "base_uri": "https://localhost:8080/",
          "height": 34
        },
        "outputId": "8b0d43ac-c6c9-4dad-e929-7abb83860b12"
      },
      "source": [
        "df['poutcome'].unique()"
      ],
      "execution_count": null,
      "outputs": [
        {
          "output_type": "execute_result",
          "data": {
            "text/plain": [
              "array(['unknown', 'failure', 'other', 'success'], dtype=object)"
            ]
          },
          "metadata": {
            "tags": []
          },
          "execution_count": 48
        }
      ]
    },
    {
      "cell_type": "code",
      "metadata": {
        "id": "ZHzP9UfPcv-w",
        "colab_type": "code",
        "colab": {
          "base_uri": "https://localhost:8080/",
          "height": 51
        },
        "outputId": "c592ee87-1980-44c4-c102-fdac4c5cac46"
      },
      "source": [
        "print(\"Poutcome: Null values: \", df['poutcome'].isnull().sum())\n",
        "print(\"Poutcome: Categories: \", df['poutcome'].unique())"
      ],
      "execution_count": null,
      "outputs": [
        {
          "output_type": "stream",
          "text": [
            "Poutcome: Null values:  0\n",
            "Poutcome: Categories:  ['unknown' 'failure' 'other' 'success']\n"
          ],
          "name": "stdout"
        }
      ]
    },
    {
      "cell_type": "code",
      "metadata": {
        "id": "Me2nKPxVqa8u",
        "colab_type": "code",
        "colab": {
          "base_uri": "https://localhost:8080/",
          "height": 305
        },
        "outputId": "1cc98a92-2749-41b4-c1dc-bc5d5d482b81"
      },
      "source": [
        "plt.figure(figsize=(15, 4))\n",
        "plt.barh(df['poutcome'].sort_values().unique(),df['poutcome'].value_counts(),align='center', alpha=0.5)\n",
        "plt.xlabel(\"Frequency\", fontsize= 15)\n",
        "plt.ylabel(\"poutcome Types\", fontsize= 15)\n",
        "plt.title(\"poutcome Horizontal Bar Chart\", fontsize = 20)\n",
        "plt.show()\n",
        "plt.close()"
      ],
      "execution_count": null,
      "outputs": [
        {
          "output_type": "display_data",
          "data": {
            "image/png": "[encoded data removed]",
            "text/plain": [
              "<Figure size 1080x288 with 1 Axes>"
            ]
          },
          "metadata": {
            "tags": [],
            "needs_background": "light"
          }
        }
      ]
    },
    {
      "cell_type": "markdown",
      "metadata": {
        "id": "kxtB7wIUdNQK",
        "colab_type": "text"
      },
      "source": [
        "Poutcome is a Categorical Type"
      ]
    },
    {
      "cell_type": "code",
      "metadata": {
        "id": "J0sui6RB1X1e",
        "colab_type": "code",
        "colab": {}
      },
      "source": [
        "df['poutcome'] = df['poutcome'].astype('category')"
      ],
      "execution_count": null,
      "outputs": []
    },
    {
      "cell_type": "markdown",
      "metadata": {
        "id": "alrpiikreeVE",
        "colab_type": "text"
      },
      "source": [
        "### **3.15 y - has the client subscribed a term deposit**"
      ]
    },
    {
      "cell_type": "code",
      "metadata": {
        "id": "mrXCB3XzeVh4",
        "colab_type": "code",
        "colab": {}
      },
      "source": [
        "# print(\"Target Variable: Null values: \", df['y'].isnull().sum())\n",
        "# print(\"Target Variable: Categories: \", df['y'].unique())"
      ],
      "execution_count": null,
      "outputs": []
    },
    {
      "cell_type": "code",
      "metadata": {
        "id": "dUjGRH1aemCF",
        "colab_type": "code",
        "colab": {}
      },
      "source": [
        "# plt.figure(figsize=(15, 4))\n",
        "# plt.barh(df['y'].sort_values().unique(),df['y'].value_counts(),align='center', alpha=0.5)\n",
        "# plt.xlabel(\"Frequency\", fontsize= 15)\n",
        "# plt.ylabel(\"Traget Types\", fontsize= 15)\n",
        "# plt.title(\"Traget Variable - has the client subscribed a term deposit? Horizontal Bar Chart\", fontsize = 20)\n",
        "# plt.show()\n",
        "# plt.close()"
      ],
      "execution_count": null,
      "outputs": []
    },
    {
      "cell_type": "code",
      "metadata": {
        "id": "KhXlflqI12G3",
        "colab_type": "code",
        "colab": {}
      },
      "source": [
        "# df['y'] = df['y'].astype('bool')"
      ],
      "execution_count": null,
      "outputs": []
    },
    {
      "cell_type": "markdown",
      "metadata": {
        "id": "vXrbzhJSo33g",
        "colab_type": "text"
      },
      "source": [
        "**Data Visualization Summary**: \n",
        "1. Outliers: Campaign, age, duration has outlier points\n",
        "2. Remove Features: \n",
        "\n",
        "  2.1: Pdays (Values are not distrubuted)\n",
        "\n",
        "  2.2: previous (Most of the values are 0)\n",
        "\n",
        "3. The target shows it is Imbalance data"
      ]
    },
    {
      "cell_type": "markdown",
      "metadata": {
        "id": "ECoxeUpg2X5r",
        "colab_type": "text"
      },
      "source": [
        "**List All column datatypes**"
      ]
    },
    {
      "cell_type": "code",
      "metadata": {
        "id": "JuSkU7Cxp42O",
        "colab_type": "code",
        "colab": {
          "base_uri": "https://localhost:8080/",
          "height": 204
        },
        "outputId": "8cc7bf85-3826-4002-9c05-9ffe4f141421"
      },
      "source": [
        "df.tail()"
      ],
      "execution_count": null,
      "outputs": [
        {
          "output_type": "execute_result",
          "data": {
            "text/html": [
              "<div>\n",
              "<style scoped>\n",
              "    .dataframe tbody tr th:only-of-type {\n",
              "        vertical-align: middle;\n",
              "    }\n",
              "\n",
              "    .dataframe tbody tr th {\n",
              "        vertical-align: top;\n",
              "    }\n",
              "\n",
              "    .dataframe thead th {\n",
              "        text-align: right;\n",
              "    }\n",
              "</style>\n",
              "<table border=\"1\" class=\"dataframe\">\n",
              "  <thead>\n",
              "    <tr style=\"text-align: right;\">\n",
              "      <th></th>\n",
              "      <th>age</th>\n",
              "      <th>job</th>\n",
              "      <th>marital</th>\n",
              "      <th>education</th>\n",
              "      <th>default</th>\n",
              "      <th>balance</th>\n",
              "      <th>housing</th>\n",
              "      <th>loan</th>\n",
              "      <th>contact</th>\n",
              "      <th>day</th>\n",
              "      <th>month</th>\n",
              "      <th>duration</th>\n",
              "      <th>campaign</th>\n",
              "      <th>pdays</th>\n",
              "      <th>previous</th>\n",
              "      <th>poutcome</th>\n",
              "      <th>y</th>\n",
              "    </tr>\n",
              "  </thead>\n",
              "  <tbody>\n",
              "    <tr>\n",
              "      <th>4943</th>\n",
              "      <td>26</td>\n",
              "      <td>blue-collar</td>\n",
              "      <td>single</td>\n",
              "      <td>secondary</td>\n",
              "      <td>True</td>\n",
              "      <td>82</td>\n",
              "      <td>True</td>\n",
              "      <td>True</td>\n",
              "      <td>unknown</td>\n",
              "      <td>9</td>\n",
              "      <td>may</td>\n",
              "      <td>654</td>\n",
              "      <td>1</td>\n",
              "      <td>-1</td>\n",
              "      <td>0</td>\n",
              "      <td>unknown</td>\n",
              "      <td>NaN</td>\n",
              "    </tr>\n",
              "    <tr>\n",
              "      <th>4944</th>\n",
              "      <td>40</td>\n",
              "      <td>blue-collar</td>\n",
              "      <td>married</td>\n",
              "      <td>secondary</td>\n",
              "      <td>True</td>\n",
              "      <td>10</td>\n",
              "      <td>True</td>\n",
              "      <td>True</td>\n",
              "      <td>unknown</td>\n",
              "      <td>9</td>\n",
              "      <td>may</td>\n",
              "      <td>1692</td>\n",
              "      <td>2</td>\n",
              "      <td>-1</td>\n",
              "      <td>0</td>\n",
              "      <td>unknown</td>\n",
              "      <td>NaN</td>\n",
              "    </tr>\n",
              "    <tr>\n",
              "      <th>4945</th>\n",
              "      <td>28</td>\n",
              "      <td>blue-collar</td>\n",
              "      <td>single</td>\n",
              "      <td>secondary</td>\n",
              "      <td>True</td>\n",
              "      <td>-197</td>\n",
              "      <td>True</td>\n",
              "      <td>True</td>\n",
              "      <td>unknown</td>\n",
              "      <td>9</td>\n",
              "      <td>may</td>\n",
              "      <td>2016</td>\n",
              "      <td>2</td>\n",
              "      <td>-1</td>\n",
              "      <td>0</td>\n",
              "      <td>unknown</td>\n",
              "      <td>NaN</td>\n",
              "    </tr>\n",
              "    <tr>\n",
              "      <th>4946</th>\n",
              "      <td>33</td>\n",
              "      <td>blue-collar</td>\n",
              "      <td>divorced</td>\n",
              "      <td>primary</td>\n",
              "      <td>True</td>\n",
              "      <td>390</td>\n",
              "      <td>True</td>\n",
              "      <td>True</td>\n",
              "      <td>unknown</td>\n",
              "      <td>9</td>\n",
              "      <td>may</td>\n",
              "      <td>665</td>\n",
              "      <td>2</td>\n",
              "      <td>-1</td>\n",
              "      <td>0</td>\n",
              "      <td>unknown</td>\n",
              "      <td>NaN</td>\n",
              "    </tr>\n",
              "    <tr>\n",
              "      <th>4947</th>\n",
              "      <td>45</td>\n",
              "      <td>blue-collar</td>\n",
              "      <td>married</td>\n",
              "      <td>primary</td>\n",
              "      <td>True</td>\n",
              "      <td>101</td>\n",
              "      <td>True</td>\n",
              "      <td>True</td>\n",
              "      <td>unknown</td>\n",
              "      <td>12</td>\n",
              "      <td>may</td>\n",
              "      <td>460</td>\n",
              "      <td>5</td>\n",
              "      <td>-1</td>\n",
              "      <td>0</td>\n",
              "      <td>unknown</td>\n",
              "      <td>NaN</td>\n",
              "    </tr>\n",
              "  </tbody>\n",
              "</table>\n",
              "</div>"
            ],
            "text/plain": [
              "      age          job   marital  education  ...  pdays  previous  poutcome    y\n",
              "4943   26  blue-collar    single  secondary  ...     -1         0   unknown  NaN\n",
              "4944   40  blue-collar   married  secondary  ...     -1         0   unknown  NaN\n",
              "4945   28  blue-collar    single  secondary  ...     -1         0   unknown  NaN\n",
              "4946   33  blue-collar  divorced    primary  ...     -1         0   unknown  NaN\n",
              "4947   45  blue-collar   married    primary  ...     -1         0   unknown  NaN\n",
              "\n",
              "[5 rows x 17 columns]"
            ]
          },
          "metadata": {
            "tags": []
          },
          "execution_count": 55
        }
      ]
    },
    {
      "cell_type": "code",
      "metadata": {
        "id": "ivDQyOTpkiXD",
        "colab_type": "code",
        "colab": {}
      },
      "source": [
        "# Divide in training/validation and test data\n",
        "data = df[df['y'].notnull()]"
      ],
      "execution_count": null,
      "outputs": []
    },
    {
      "cell_type": "code",
      "metadata": {
        "id": "ojrZ4yHAsKky",
        "colab_type": "code",
        "colab": {}
      },
      "source": [
        "submission_test = df[df['y'].isnull()]\n",
        "submission_test = submission_test.drop(columns= ['y'])"
      ],
      "execution_count": null,
      "outputs": []
    },
    {
      "cell_type": "code",
      "metadata": {
        "id": "VIOj9Nx0y3z7",
        "colab_type": "code",
        "colab": {}
      },
      "source": [
        "target = data['y'].values\n",
        "data = data.loc[:, data.columns != 'y']"
      ],
      "execution_count": null,
      "outputs": []
    },
    {
      "cell_type": "code",
      "metadata": {
        "id": "a26LgxuwrDR5",
        "colab_type": "code",
        "colab": {}
      },
      "source": [
        "target, _ = pd.factorize(target)"
      ],
      "execution_count": null,
      "outputs": []
    },
    {
      "cell_type": "markdown",
      "metadata": {
        "id": "z-A-60x9Dtv5",
        "colab_type": "text"
      },
      "source": [
        "## **6. Feature Engineering**"
      ]
    },
    {
      "cell_type": "markdown",
      "metadata": {
        "id": "KOnFlgVtjUv-",
        "colab_type": "text"
      },
      "source": [
        "#### **6.1 Boolean Feature Engineering**"
      ]
    },
    {
      "cell_type": "code",
      "metadata": {
        "id": "LDUE3SbhDycJ",
        "colab_type": "code",
        "colab": {}
      },
      "source": [
        "def boolean_feature(data):\n",
        "  # False if bank balance is less than 0\n",
        "  data['isBalancePositive'] = data['balance'] < 0\n",
        "  # False if duration is 0\n",
        "  data['isDurationZero'] = data['duration'] == 0\n",
        "  # False if the client previous contacted days are -1\n",
        "  data['isClientContPrevCamp'] = data['pdays'] == -1\n",
        "  return data"
      ],
      "execution_count": null,
      "outputs": []
    },
    {
      "cell_type": "code",
      "metadata": {
        "id": "yKz6oxKf1zyy",
        "colab_type": "code",
        "colab": {}
      },
      "source": [
        "data = boolean_feature(data)\n",
        "submission_test = boolean_feature(submission_test)"
      ],
      "execution_count": null,
      "outputs": []
    },
    {
      "cell_type": "markdown",
      "metadata": {
        "id": "GIom0qM8jGm5",
        "colab_type": "text"
      },
      "source": [
        "### **6.2 Categorical Feature Binning**"
      ]
    },
    {
      "cell_type": "code",
      "metadata": {
        "id": "23jWNXzsQi99",
        "colab_type": "code",
        "colab": {}
      },
      "source": [
        "def binned_feature(data):\n",
        "  # Age feature binning \n",
        "  age_cut_bins = [data['age'].min(), 30, 60, data['age'].max()]\n",
        "  data['age_bins'] = pd.cut(data['age'], bins = age_cut_bins, labels=['Young', 'Mid', 'Old'])\n",
        "\n",
        "  # Balance feature binning \n",
        "  balance_cut_bins = [data['balance'].min() - 1, data['balance'].median(), data['balance'].max() + 1]\n",
        "  data['balance_bins'] = pd.cut(data['balance'], bins= balance_cut_bins, labels= ['Low','High'])\n",
        "\n",
        "  # Duration feature binning \n",
        "  duration_cut_bins = [data['duration'].min() - 1, data['duration'].median(), data['duration'].max() + 1]\n",
        "  data['duration_bins'] = pd.cut(data['duration'], bins= duration_cut_bins, labels= ['Low','High'])\n",
        "\n",
        "  # Campaign feature binning \n",
        "  campaign_cut_bins = [data['campaign'].min() - 1, data['campaign'].median(), data['campaign'].max() + 1]\n",
        "  data['campaign_bin'] = pd.cut(data['campaign'], bins= campaign_cut_bins, labels= ['Low','High'])\n",
        "\n",
        "  # Pdays feature binning \n",
        "  pdays_cut_bins = [data['pdays'].min() - 1, data['pdays'].mean(), data['pdays'].max() + 1]\n",
        "  data['pdays_bin'] = pd.cut(data['pdays'], bins= pdays_cut_bins, labels= ['Low','High'])\n",
        "\n",
        "  return data"
      ],
      "execution_count": null,
      "outputs": []
    },
    {
      "cell_type": "code",
      "metadata": {
        "id": "aoRvmEA817wF",
        "colab_type": "code",
        "colab": {}
      },
      "source": [
        "data = binned_feature(data)\n",
        "submission_test = binned_feature(submission_test)"
      ],
      "execution_count": null,
      "outputs": []
    },
    {
      "cell_type": "markdown",
      "metadata": {
        "id": "AHR9WVAhDIDt",
        "colab_type": "text"
      },
      "source": [
        "## **5. Data Preprocessing**"
      ]
    },
    {
      "cell_type": "code",
      "metadata": {
        "id": "__auSiK7rx3Q",
        "colab_type": "code",
        "colab": {}
      },
      "source": [
        "for bin_feature in df.columns[df.nunique() == 2].to_list():\n",
        "  df[bin_feature], uniques = pd.factorize(df[bin_feature])"
      ],
      "execution_count": null,
      "outputs": []
    },
    {
      "cell_type": "code",
      "metadata": {
        "id": "kAHZpw8fr6yj",
        "colab_type": "code",
        "colab": {}
      },
      "source": [
        "def one_hot_encoding(data):\n",
        "  # Convert boolean category featuers to numerical\n",
        "  boolean_column_list = [col for col in data.select_dtypes('bool').dtypes.index.to_list()]\n",
        "  for bin_feature in boolean_column_list:\n",
        "    data[bin_feature], uniques = pd.factorize(data[bin_feature])\n",
        "\n",
        "  # One hot encoding on features with more than two categories\n",
        "  categorical_column_list = [col for col in data.select_dtypes('category').dtypes.index.to_list()]\n",
        "  data = pd.get_dummies(data, columns=categorical_column_list, dummy_na=True)\n",
        "  return data "
      ],
      "execution_count": null,
      "outputs": []
    },
    {
      "cell_type": "code",
      "metadata": {
        "id": "cUUw-05Rr-79",
        "colab_type": "code",
        "colab": {}
      },
      "source": [
        "data = one_hot_encoding(data)\n",
        "submission_test = one_hot_encoding(submission_test)"
      ],
      "execution_count": null,
      "outputs": []
    },
    {
      "cell_type": "markdown",
      "metadata": {
        "id": "AaA4D1GOtOnM",
        "colab_type": "text"
      },
      "source": [
        "## **4. Split Train and Test**"
      ]
    },
    {
      "cell_type": "code",
      "metadata": {
        "id": "WA1g0WsSxk0n",
        "colab_type": "code",
        "colab": {}
      },
      "source": [
        "from sklearn.model_selection import train_test_split"
      ],
      "execution_count": null,
      "outputs": []
    },
    {
      "cell_type": "code",
      "metadata": {
        "id": "QxiO-DZ1xswj",
        "colab_type": "code",
        "colab": {}
      },
      "source": [
        "X_train, X_cv, y_train, y_cv = train_test_split(data, target, test_size = 0.20, stratify = target)\n",
        "# X_train, X_cv, y_train, y_cv = train_test_split(X_train, y_train, test_size = 0.20, stratify = y_train)"
      ],
      "execution_count": null,
      "outputs": []
    },
    {
      "cell_type": "code",
      "metadata": {
        "id": "CKVR5Fq0z3Ac",
        "colab_type": "code",
        "colab": {
          "base_uri": "https://localhost:8080/",
          "height": 68
        },
        "outputId": "1570bd43-f81c-4bff-a76e-19bc6aa935a2"
      },
      "source": [
        "print(\"Training Samples:\", X_train.shape, y_train.shape)\n",
        "print('Cross Validation Sample: ', X_cv.shape, y_cv.shape)\n",
        "print(\"Test Samples:\", submission_test.shape)"
      ],
      "execution_count": null,
      "outputs": [
        {
          "output_type": "stream",
          "text": [
            "Training Samples: (3616, 73) (3616,)\n",
            "Cross Validation Sample:  (905, 73) (905,)\n",
            "Test Samples: (427, 73)\n"
          ],
          "name": "stdout"
        }
      ]
    },
    {
      "cell_type": "markdown",
      "metadata": {
        "id": "YvLeWiQesfdt",
        "colab_type": "text"
      },
      "source": [
        "## **7. Resampling**"
      ]
    },
    {
      "cell_type": "markdown",
      "metadata": {
        "id": "Ofdf8R7GFOQs",
        "colab_type": "text"
      },
      "source": [
        "Resampling technique references : https://www.kaggle.com/rafjaa/resampling-strategies-for-imbalanced-datasets#t5"
      ]
    },
    {
      "cell_type": "code",
      "metadata": {
        "id": "OZ0RI9r-suu-",
        "colab_type": "code",
        "colab": {
          "base_uri": "https://localhost:8080/",
          "height": 51
        },
        "outputId": "608ca08b-7f10-4288-e40c-51591298e436"
      },
      "source": [
        "# Training Samples\n",
        "np.array(np.unique(y_train, return_counts=True)).T"
      ],
      "execution_count": null,
      "outputs": [
        {
          "output_type": "execute_result",
          "data": {
            "text/plain": [
              "array([[   0, 3199],\n",
              "       [   1,  417]])"
            ]
          },
          "metadata": {
            "tags": []
          },
          "execution_count": 70
        }
      ]
    },
    {
      "cell_type": "code",
      "metadata": {
        "id": "01gL7at_2UR8",
        "colab_type": "code",
        "colab": {}
      },
      "source": [
        "count_0s = np.unique(y_train, return_counts=True)[1][0]\n",
        "count_1s = np.unique(y_train, return_counts=True)[1][1]"
      ],
      "execution_count": null,
      "outputs": []
    },
    {
      "cell_type": "code",
      "metadata": {
        "id": "o1aRwKB33eew",
        "colab_type": "code",
        "colab": {}
      },
      "source": [
        "# Split Classes\n",
        "X_train_0s = X_train[y_train == 0].reset_index(drop=True)\n",
        "X_train_1s = X_train[y_train == 1].reset_index(drop=True)"
      ],
      "execution_count": null,
      "outputs": []
    },
    {
      "cell_type": "code",
      "metadata": {
        "id": "U_nYzhss709G",
        "colab_type": "code",
        "colab": {}
      },
      "source": [
        "def print_sample_details(X, y):\n",
        "  print('X_train Shape: {}'.format(X.shape))\n",
        "  print('y_train Shape: {}'.format(y.shape))"
      ],
      "execution_count": null,
      "outputs": []
    },
    {
      "cell_type": "code",
      "metadata": {
        "id": "qgoNmKOwvQJc",
        "colab_type": "code",
        "colab": {}
      },
      "source": [
        "def plot_2d_space(X, y, label='Classes'):   \n",
        "    colors = ['#1F77B4', '#FF7F0E']\n",
        "    markers = ['o', 's']\n",
        "    for l, c, m in zip(np.unique(y), colors, markers):\n",
        "        plt.scatter(\n",
        "            X[y==l, 0],\n",
        "            X[y==l, 1],\n",
        "            c=c, label=l, marker=m\n",
        "        )\n",
        "    plt.title(label)\n",
        "    plt.legend(loc='upper right')\n",
        "    # plt.show()\n",
        "    return plt"
      ],
      "execution_count": null,
      "outputs": []
    },
    {
      "cell_type": "code",
      "metadata": {
        "id": "jvEzbWrEvvEh",
        "colab_type": "code",
        "colab": {
          "base_uri": "https://localhost:8080/",
          "height": 298
        },
        "outputId": "d9bc432a-00bf-44a4-c58d-29acef6d2f48"
      },
      "source": [
        "from sklearn.decomposition import PCA\n",
        "\n",
        "pca = PCA(n_components=2)\n",
        "X = pca.fit_transform(X_train)\n",
        "\n",
        "plot_2d_space(X, y_train, 'Imbalanced dataset (2 PCA components)')"
      ],
      "execution_count": null,
      "outputs": [
        {
          "output_type": "execute_result",
          "data": {
            "text/plain": [
              "<module 'matplotlib.pyplot' from '/usr/local/lib/python3.6/dist-packages/matplotlib/pyplot.py'>"
            ]
          },
          "metadata": {
            "tags": []
          },
          "execution_count": 75
        },
        {
          "output_type": "display_data",
          "data": {
            "image/png": "[encoded data removed]",
            "text/plain": [
              "<Figure size 432x288 with 1 Axes>"
            ]
          },
          "metadata": {
            "tags": [],
            "needs_background": "light"
          }
        }
      ]
    },
    {
      "cell_type": "markdown",
      "metadata": {
        "id": "FBXIK3Yo3HGq",
        "colab_type": "text"
      },
      "source": [
        "### **7.1 Random Undersampling**"
      ]
    },
    {
      "cell_type": "code",
      "metadata": {
        "id": "9gEW_B9q3FaE",
        "colab_type": "code",
        "colab": {}
      },
      "source": [
        "# Undersample using pandas sample function\n",
        "X_train_0s_rus = X_train_0s.sample(count_1s, random_state=1)\n",
        "\n",
        "# Concat Train 0s and 1s along with the target variable \n",
        "X_train_rus = pd.concat([X_train_1s, X_train_0s_rus], axis=0)\n",
        "y_train_rus = np.concatenate((y_train.take(X_train_1s.index), y_train.take(X_train_0s.sample(count_1s, random_state=1).index)), axis = 0)"
      ],
      "execution_count": null,
      "outputs": []
    },
    {
      "cell_type": "code",
      "metadata": {
        "id": "ewQ7wWZj29-s",
        "colab_type": "code",
        "colab": {
          "base_uri": "https://localhost:8080/",
          "height": 51
        },
        "outputId": "e76dda38-4cfd-4bd1-8793-b6b72d1664c1"
      },
      "source": [
        "print_sample_details(X_train_rus, y_train_rus)"
      ],
      "execution_count": null,
      "outputs": [
        {
          "output_type": "stream",
          "text": [
            "X_train Shape: (834, 73)\n",
            "y_train Shape: (834,)\n"
          ],
          "name": "stdout"
        }
      ]
    },
    {
      "cell_type": "markdown",
      "metadata": {
        "colab_type": "text",
        "id": "TZRUVuRP9qLe"
      },
      "source": [
        "### **7.2 Random Oversampling**"
      ]
    },
    {
      "cell_type": "code",
      "metadata": {
        "colab_type": "code",
        "id": "LQj8DaEo9qLh",
        "colab": {}
      },
      "source": [
        "# Oversample using pandas sample function\n",
        "X_train_1s_ros = X_train_1s.sample(count_0s, random_state=1, replace=True)\n",
        "\n",
        "# Concat Train 0s and 1s along with the target variable \n",
        "X_train_ros = pd.concat([X_train_0s, X_train_1s_ros], axis=0)\n",
        "y_train_ros = np.concatenate((y_train.take(X_train_0s.index), y_train.take(X_train_1s.sample(count_0s, random_state=1, replace=True).index)), axis = 0)"
      ],
      "execution_count": null,
      "outputs": []
    },
    {
      "cell_type": "code",
      "metadata": {
        "colab_type": "code",
        "id": "KQ7-Cp7B9qLp",
        "colab": {
          "base_uri": "https://localhost:8080/",
          "height": 51
        },
        "outputId": "769467df-358c-465c-9699-c3c3199b2dd8"
      },
      "source": [
        "print_sample_details(X_train_ros, y_train_ros)"
      ],
      "execution_count": null,
      "outputs": [
        {
          "output_type": "stream",
          "text": [
            "X_train Shape: (6398, 73)\n",
            "y_train Shape: (6398,)\n"
          ],
          "name": "stdout"
        }
      ]
    },
    {
      "cell_type": "markdown",
      "metadata": {
        "id": "MLEBNewMB1X6",
        "colab_type": "text"
      },
      "source": [
        "### **7.3 Under-sampling: Tomek links**"
      ]
    },
    {
      "cell_type": "code",
      "metadata": {
        "id": "86axSu9ZB6WM",
        "colab_type": "code",
        "colab": {}
      },
      "source": [
        "from imblearn.under_sampling import TomekLinks\n",
        "\n",
        "tl = TomekLinks(return_indices=True, ratio='majority')\n",
        "X_train_tl, y_train_tl, _ = tl.fit_sample(X_train, y_train)\n",
        "X_train_tl = pd.DataFrame(X_train_tl, columns=X_train.columns)"
      ],
      "execution_count": null,
      "outputs": []
    },
    {
      "cell_type": "code",
      "metadata": {
        "id": "o0erW44rCe-k",
        "colab_type": "code",
        "colab": {
          "base_uri": "https://localhost:8080/",
          "height": 51
        },
        "outputId": "62f8a60a-1768-43c5-e863-50ebcf02fc96"
      },
      "source": [
        "print_sample_details(X_train_tl, y_train_tl)"
      ],
      "execution_count": null,
      "outputs": [
        {
          "output_type": "stream",
          "text": [
            "X_train Shape: (3482, 73)\n",
            "y_train Shape: (3482,)\n"
          ],
          "name": "stdout"
        }
      ]
    },
    {
      "cell_type": "markdown",
      "metadata": {
        "id": "P2smKrSHCpJA",
        "colab_type": "text"
      },
      "source": [
        "### **7.4 Under-sampling: Cluster Centroids**"
      ]
    },
    {
      "cell_type": "code",
      "metadata": {
        "id": "PUNRbE_ECold",
        "colab_type": "code",
        "colab": {}
      },
      "source": [
        "from imblearn.under_sampling import ClusterCentroids\n",
        "\n",
        "cc = ClusterCentroids(ratio={0: 10})\n",
        "X_train_cc, y_train_cc = cc.fit_sample(X_train, y_train)\n",
        "X_train_cc = pd.DataFrame(X_train_cc, columns=X_train.columns)"
      ],
      "execution_count": null,
      "outputs": []
    },
    {
      "cell_type": "code",
      "metadata": {
        "id": "SyWJ70RkC0R4",
        "colab_type": "code",
        "colab": {
          "base_uri": "https://localhost:8080/",
          "height": 51
        },
        "outputId": "00f08add-cf39-4b1e-a5e6-650df561906d"
      },
      "source": [
        "print_sample_details(X_train_cc, y_train_cc)"
      ],
      "execution_count": null,
      "outputs": [
        {
          "output_type": "stream",
          "text": [
            "X_train Shape: (427, 73)\n",
            "y_train Shape: (427,)\n"
          ],
          "name": "stdout"
        }
      ]
    },
    {
      "cell_type": "markdown",
      "metadata": {
        "id": "IphrK02pC4O-",
        "colab_type": "text"
      },
      "source": [
        "### **7.5 Over-sampling: SMOTE**"
      ]
    },
    {
      "cell_type": "code",
      "metadata": {
        "id": "XOIxMKFtC9Tc",
        "colab_type": "code",
        "colab": {}
      },
      "source": [
        "from imblearn.over_sampling import SMOTE\n",
        "\n",
        "smote = SMOTE(ratio='minority')\n",
        "X_train_smote, y_train_smote = smote.fit_sample(X_train, y_train)\n",
        "X_train_smote = pd.DataFrame(X_train_smote, columns=X_train.columns)"
      ],
      "execution_count": null,
      "outputs": []
    },
    {
      "cell_type": "code",
      "metadata": {
        "id": "z5y9B3KqC9K8",
        "colab_type": "code",
        "colab": {
          "base_uri": "https://localhost:8080/",
          "height": 51
        },
        "outputId": "de57faf1-fe82-4758-8486-4ed5002a0227"
      },
      "source": [
        "print_sample_details(X_train_smote, y_train_smote)"
      ],
      "execution_count": null,
      "outputs": [
        {
          "output_type": "stream",
          "text": [
            "X_train Shape: (6398, 73)\n",
            "y_train Shape: (6398,)\n"
          ],
          "name": "stdout"
        }
      ]
    },
    {
      "cell_type": "markdown",
      "metadata": {
        "id": "KmQKH-gqDSpO",
        "colab_type": "text"
      },
      "source": [
        "### **7.6 Over-sampling followed by under-samplin**g"
      ]
    },
    {
      "cell_type": "code",
      "metadata": {
        "id": "gqm6GTKgDRdU",
        "colab_type": "code",
        "colab": {}
      },
      "source": [
        "from imblearn.combine import SMOTETomek\n",
        "\n",
        "smt = SMOTETomek(ratio='auto')\n",
        "X_train_smote_tomek, y_train_smote_tomek = smt.fit_sample(X_train, y_train)\n",
        "X_train_smote_tomek = pd.DataFrame(X_train_smote_tomek, columns=X_train.columns)"
      ],
      "execution_count": null,
      "outputs": []
    },
    {
      "cell_type": "code",
      "metadata": {
        "id": "IY5BNRvYDhaO",
        "colab_type": "code",
        "colab": {
          "base_uri": "https://localhost:8080/",
          "height": 51
        },
        "outputId": "827f7e9f-25bb-4c3a-9ba0-512b225a4d49"
      },
      "source": [
        "print_sample_details(X_train_smote_tomek, y_train_smote_tomek)"
      ],
      "execution_count": null,
      "outputs": [
        {
          "output_type": "stream",
          "text": [
            "X_train Shape: (6162, 73)\n",
            "y_train Shape: (6162,)\n"
          ],
          "name": "stdout"
        }
      ]
    },
    {
      "cell_type": "markdown",
      "metadata": {
        "id": "iuGUN1Im1EKl",
        "colab_type": "text"
      },
      "source": [
        "## **8. Model Training**"
      ]
    },
    {
      "cell_type": "code",
      "metadata": {
        "id": "-QYXz4gW1D4W",
        "colab_type": "code",
        "colab": {}
      },
      "source": [
        "# import model training related classes\n",
        "from sklearn.model_selection import GridSearchCV\n",
        "from sklearn.model_selection import RandomizedSearchCV\n",
        "from sklearn.model_selection import RepeatedStratifiedKFold\n",
        "from sklearn.model_selection import cross_val_score\n",
        "from sklearn.neighbors import KNeighborsClassifier\n",
        "from sklearn.naive_bayes import MultinomialNB\n",
        "from sklearn.linear_model import LogisticRegression\n",
        "from sklearn.ensemble import RandomForestClassifier\n",
        "from sklearn.ensemble import GradientBoostingClassifier\n",
        "from sklearn.calibration import CalibratedClassifierCV\n",
        "from sklearn.svm import SVC\n",
        "\n",
        "from sklearn.metrics import accuracy_score\n",
        "from sklearn.metrics import confusion_matrix\n",
        "from sklearn.metrics import precision_score, recall_score, f1_score, accuracy_score\n",
        "\n",
        "import seaborn as sns\n",
        "import pprint"
      ],
      "execution_count": null,
      "outputs": []
    },
    {
      "cell_type": "code",
      "metadata": {
        "id": "OsBRxJvvFXWu",
        "colab_type": "code",
        "colab": {}
      },
      "source": [
        "def plot_confusion_matrix(conf_matrix):\n",
        "    \"\"\"\n",
        "      Plots Confusion Matrix \n",
        "    \"\"\"\n",
        "    labels = [0, 1]\n",
        "    cmap=sns.light_palette(\"green\")\n",
        "    # representing A in heatmap format\n",
        "    print(\"-\"*50, \"Confusion matrix\", \"-\"*50)\n",
        "    plt.figure(figsize=(3,2))\n",
        "    sns.heatmap(conf_matrix, annot=True, cmap=cmap, fmt=\".3f\", xticklabels=labels, yticklabels=labels)\n",
        "    plt.xlabel('Predicted Class')\n",
        "    plt.ylabel('Original Class')\n",
        "    plt.show()\n"
      ],
      "execution_count": null,
      "outputs": []
    },
    {
      "cell_type": "code",
      "metadata": {
        "id": "2GtnugURZoDW",
        "colab_type": "code",
        "colab": {}
      },
      "source": [
        "def metric_helper(test_y, predict_y):\n",
        "  \"\"\"\n",
        "    The method will perform performance metric calculation.\n",
        "    Precision, Recall, Accuracy and plot Confusion Matrix \n",
        "    Return dictionary of performance measures as key value pairs. \n",
        "  \"\"\"\n",
        "  \n",
        "  conf_matrix = confusion_matrix(test_y, predict_y)\n",
        "  plot_confusion_matrix(conf_matrix)\n",
        "\n",
        "  # miss class pts\n",
        "  miss_cls_percent = (len(test_y)-np.trace(conf_matrix))/len(test_y)*100\n",
        "  print(\"Number of misclassified percentage: {}\".format(miss_cls_percent))\n",
        "\n",
        "  print('*'*50, 'PRECISION', '*'*50)\n",
        "  precision = precision_score(test_y, predict_y)\n",
        "  print('Precision Score: {}'.format(precision))\n",
        "\n",
        "  print('*'*50, 'RECALL', '*'*50)\n",
        "  recall = recall_score(test_y, predict_y)\n",
        "  print('Recall Score: {}'.format(recall))\n",
        "\n",
        "  print('*'*50, 'F1 Score', '*'*50)\n",
        "  f1 = f1_score(test_y, predict_y)\n",
        "  print('F1 Score: {}'.format(f1))\n",
        "\n",
        "  print('*'*50, 'ACCURACY', '*'*50)\n",
        "  accuracy = accuracy_score(test_y, predict_y)\n",
        "  print('Accuracy Score: {}'.format(accuracy))\n",
        "\n",
        "\n",
        "  return {'precision': precision, 'recall' : recall, 'f1_score' : f1, 'miss_class_pts' : miss_cls_percent, 'accuracy' : accuracy}"
      ],
      "execution_count": null,
      "outputs": []
    },
    {
      "cell_type": "code",
      "metadata": {
        "id": "soRAW_1k62eX",
        "colab_type": "code",
        "colab": {}
      },
      "source": [
        "def model_helper(model, parameter, cv, X_train_df, y_train_df, X_test_df, y_test_df, isReturnModelObject=False):\n",
        "  \"\"\"\n",
        "  It will perform GridSearchCV and finds optimal paramater for each model.\n",
        "  With optimal values again the same machine learning model is invoked.\n",
        "  Calibration is performed on the probability valued and `metric_helper`\n",
        "  class is called to return classification result\n",
        "  \"\"\"\n",
        "  # grid search \n",
        "  grid_model = GridSearchCV(model, parameter, cv = cv, scoring = 'f1', n_jobs=-1)\n",
        "  grid_model_fit = grid_model.fit(X_train_df, y_train_df)\n",
        "\n",
        "  # print best parameters\n",
        "  print('*'*50, \"Grid Search CV: Best Hyperparameters\", '*'*50, '\\n')\n",
        "  pprint.pprint(grid_model_fit.best_params_)\n",
        "  print('*'*50,\"**********************\",'*'*50, '\\n')\n",
        "  \n",
        "  best_model = best_ml_model_object_constructor(model, True, grid_model_fit.best_params_)\n",
        "  best_model.fit(X_train_df, y_train_df)\n",
        "  sig_clf = CalibratedClassifierCV(best_model, method='sigmoid')\n",
        "  sig_clf.fit(X_train_df, y_train_df)\n",
        "\n",
        "  y_test_predict = sig_clf.predict(X_test_df)\n",
        "\n",
        "  result = metric_helper(y_test_df, y_test_predict)\n",
        "  # return result report if False else trained model object \n",
        "  return sig_clf if isReturnModelObject else result"
      ],
      "execution_count": null,
      "outputs": []
    },
    {
      "cell_type": "code",
      "metadata": {
        "id": "9NlFaVpvREpM",
        "colab_type": "code",
        "colab": {}
      },
      "source": [
        "# KNN - Hyperparamer tuning\n",
        "def knn(isBestparam = False, param= None):\n",
        "    \"\"\"\n",
        "    Defined KNN hyperparameters based on GridSearchCV or Best model condition\n",
        "    \"\"\"\n",
        "    if not isBestparam: \n",
        "      knn_param = {\n",
        "        'n_neighbors': [10, 50, 100],\n",
        "        'algorithm' : ['auto'],\n",
        "        'leaf_size' : [10, 30, 50, 100],\n",
        "        'p' : [1, 2],\n",
        "      }\n",
        "      knn_obj = KNeighborsClassifier()\n",
        "      return knn_obj, knn_param\n",
        "    else:\n",
        "      return KNeighborsClassifier(\n",
        "          n_neighbors = param['n_neighbors'],\n",
        "          algorithm = param['algorithm'],\n",
        "          leaf_size = param['leaf_size'],\n",
        "          p = param['p']\n",
        "        )\n",
        " \n",
        "def naive_bayes(isBestparam = False, param = None):\n",
        "    \"\"\"\n",
        "    Defined Naive Bayes hyperparameters based on GridSearchCV or Best model condition\n",
        "    \"\"\"\n",
        "    if not isBestparam:\n",
        "      nb_param = {\n",
        "          'alpha' : [.01,0.1,1,10,100,1000]\n",
        "      }\n",
        "      nb_obj = MultinomialNB()\n",
        "      return nb_obj, nb_param\n",
        "    else:\n",
        "      return MultinomialNB(alpha=param['alpha'])\n",
        " \n",
        "def logistic_reg(isBestparam = False, param = None):\n",
        "    \"\"\"\n",
        "    Defined Logistic Regression hyperparameters based on GridSearchCV or Best model condition\n",
        "    \"\"\"\n",
        "    if not isBestparam:\n",
        "      log_reg_param = {\n",
        "        'penalty' : ['l1', 'l2', 'elasticnet'],\n",
        "        'C' : [0.001, 0.01, 0.1, 1]\n",
        "      }\n",
        "      log_reg_obj = LogisticRegression()\n",
        "      return log_reg_obj, log_reg_param\n",
        "    else:\n",
        "      return LogisticRegression(penalty=param['penalty'], C = param['C'])\n",
        "\n",
        "def svm(isBestparam = False, param = None):\n",
        "    \"\"\"\n",
        "    Defined Support Vector Machine hyperparameters based on GridSearchCV or Best model condition\n",
        "    \"\"\"\n",
        "    if not isBestparam:\n",
        "      svc_param = {'C':[0.05,0.1,0.5,1.0],\n",
        "          'gamma':['auto'],\n",
        "          'kernel':['rbf']\n",
        "      }\n",
        "      svc_obj = SVC(cache_size=7000)\n",
        "      return svc_obj, svc_param\n",
        "    else:\n",
        "      return SVC(C = param['C'], gamma = param['gamma'], kernel = param['kernel'])\n",
        "\n",
        "\n",
        "def random_forest(isBestparam = False, param = None):\n",
        "    # Hyperparamter tuning parameter used from the below link\n",
        "    # https://towardsdatascience.com/hyperparameter-tuning-the-random-forest-in-python-using-scikit-learn-28d2aa77dd74\n",
        "    \"\"\"\n",
        "    Defined Random Forest hyperparameters based on GridSearchCV or Best model condition\n",
        "    \"\"\"\n",
        "    if not isBestparam: \n",
        "      rf_param = {\n",
        "        'bootstrap': [True],\n",
        "        'max_depth': [30, 50],\n",
        "        'max_features': ['auto'],\n",
        "        'min_samples_leaf': [1, 5, 15],\n",
        "        'min_samples_split': [2, 5, 15],\n",
        "        'n_estimators': [100, 200, 300, 1000]\n",
        "      }\n",
        "      rf_obj = RandomForestClassifier()\n",
        "      return rf_obj, rf_param \n",
        "    else:\n",
        "      return RandomForestClassifier(\n",
        "              bootstrap = param['bootstrap'],\n",
        "              max_depth= param['max_depth'],\n",
        "              max_features= param['max_features'],\n",
        "              min_samples_leaf= param['min_samples_leaf'],\n",
        "              min_samples_split= param['min_samples_split'],\n",
        "              n_estimators= param['n_estimators']\n",
        "              )\n",
        " \n",
        "def gboostclf(isBestparam = False, param = None):\n",
        "    \"\"\"\n",
        "    Defined Gradient Boost Classifieer hyperparameters based on GridSearchCV or Best model condition\n",
        "    \"\"\"\n",
        "  # Hyperparamter tuning parameter used from the below link\n",
        "  # https://www.analyticsvidhya.com/blog/2016/02/complete-guide-parameter-tuning-gradient-boosting-gbm-python/\n",
        "    if not isBestparam: \n",
        "      gb_param = {'n_estimators':range(20,81,10)}\n",
        "      gb_obj = GradientBoostingClassifier(\n",
        "                  learning_rate=0.1, \n",
        "                  min_samples_split=500,\n",
        "                  min_samples_leaf=50,\n",
        "                  max_depth=8,\n",
        "                  max_features='sqrt',\n",
        "                  subsample=0.8,\n",
        "                  random_state=10\n",
        "              )\n",
        "      return gb_obj, gb_param \n",
        "    else:\n",
        "      return GradientBoostingClassifier(\n",
        "                  n_estimators = param['n_estimators'],\n",
        "                  learning_rate=0.1, \n",
        "                  min_samples_split=500,\n",
        "                  min_samples_leaf=50,\n",
        "                  max_depth=8,\n",
        "                  max_features='sqrt',\n",
        "                  subsample=0.8,\n",
        "                  random_state=10\n",
        "              )\n",
        " \n",
        "def ml_model_object_constructor(argument):\n",
        "    \"\"\"\n",
        "    This acts as a switch function to map through the respective models to \n",
        "    execute grid search using the type class object name\n",
        "    \"\"\"\n",
        "    switcher = {\n",
        "        1: knn,\n",
        "        2: naive_bayes,\n",
        "        3: logistic_reg,\n",
        "        4: svm,\n",
        "        5: random_forest,\n",
        "        6: gboostclf\n",
        "    }\n",
        "    # Get the function from switcher dictionary\n",
        "    func = switcher.get(argument, lambda: \"Invalid month\")\n",
        "    # Execute the function\n",
        "    a = 10\n",
        "    return func()\n",
        "\n",
        "def best_ml_model_object_constructor(obj, isBestparam, param):\n",
        "    \"\"\"\n",
        "    This acts as a switch function to map through the respective models to \n",
        "    execute best model using the type class object name\n",
        "    \"\"\"\n",
        "    obj_class_name = type(obj).__name__\n",
        "    switcher = {\n",
        "        'KNeighborsClassifier'      : knn,\n",
        "        'MultinomialNB'             : naive_bayes,\n",
        "        'LogisticRegression'        : logistic_reg,\n",
        "        'SVC'                       : svm,\n",
        "        'RandomForestClassifier'    : random_forest,\n",
        "        'GradientBoostingClassifier': gboostclf\n",
        "    }\n",
        "    # Get the function from switcher dictionary\n",
        "    func = switcher.get(obj_class_name, lambda: \"Invalid month\")\n",
        "    # Execute the function\n",
        "    a = 10\n",
        "    return func(isBestparam, param)"
      ],
      "execution_count": null,
      "outputs": []
    },
    {
      "cell_type": "code",
      "metadata": {
        "id": "ZTtMaITdncg6",
        "colab_type": "code",
        "colab": {}
      },
      "source": [
        "over_all_result = dict()\n",
        "models_id_list = [1, 3, 4, 5, 6]"
      ],
      "execution_count": null,
      "outputs": []
    },
    {
      "cell_type": "code",
      "metadata": {
        "id": "qCkL4-sZHc_v",
        "colab_type": "code",
        "colab": {
          "base_uri": "https://localhost:8080/",
          "height": 1000
        },
        "outputId": "70498cd1-ff0d-4920-d567-d6dc9b17d291"
      },
      "source": [
        "result = dict()\n",
        "for model_id in models_id_list:\n",
        "  obj, param = ml_model_object_constructor(model_id)\n",
        "  print('*'*50, 'Model Running:', type(obj).__name__ , '*'*50, '\\n')\n",
        "  result[type(obj).__name__] = model_helper(obj, param, 5, X_train, y_train, X_cv, y_cv, isReturnModelObject=False)\n",
        "\n",
        "# Save the result in dictonary  \n",
        "over_all_result['base_model'] = result"
      ],
      "execution_count": null,
      "outputs": [
        {
          "output_type": "stream",
          "text": [
            "************************************************** Model Running: KNeighborsClassifier ************************************************** \n",
            "\n",
            "************************************************** Grid Search CV: Best Hyperparameters ************************************************** \n",
            "\n",
            "{'algorithm': 'auto', 'leaf_size': 10, 'n_neighbors': 10, 'p': 2}\n",
            "************************************************** ********************** ************************************************** \n",
            "\n",
            "-------------------------------------------------- Confusion matrix --------------------------------------------------\n"
          ],
          "name": "stdout"
        },
        {
          "output_type": "display_data",
          "data": {
            "image/png": "[encoded data removed]",
            "text/plain": [
              "<Figure size 216x144 with 2 Axes>"
            ]
          },
          "metadata": {
            "tags": [],
            "needs_background": "light"
          }
        },
        {
          "output_type": "stream",
          "text": [
            "Number of misclassified percentage: 12.70718232044199\n",
            "************************************************** PRECISION **************************************************\n",
            "Precision Score: 0.358974358974359\n",
            "************************************************** RECALL **************************************************\n",
            "Recall Score: 0.1346153846153846\n",
            "************************************************** F1 Score **************************************************\n",
            "F1 Score: 0.19580419580419578\n",
            "************************************************** ACCURACY **************************************************\n",
            "Accuracy Score: 0.8729281767955801\n",
            "************************************************** Model Running: LogisticRegression ************************************************** \n",
            "\n",
            "************************************************** Grid Search CV: Best Hyperparameters ************************************************** \n",
            "\n",
            "{'C': 1, 'penalty': 'l2'}\n",
            "************************************************** ********************** ************************************************** \n",
            "\n",
            "-------------------------------------------------- Confusion matrix --------------------------------------------------\n"
          ],
          "name": "stdout"
        },
        {
          "output_type": "display_data",
          "data": {
            "image/png": "[encoded data removed]",
            "text/plain": [
              "<Figure size 216x144 with 2 Axes>"
            ]
          },
          "metadata": {
            "tags": [],
            "needs_background": "light"
          }
        },
        {
          "output_type": "stream",
          "text": [
            "Number of misclassified percentage: 12.154696132596685\n",
            "************************************************** PRECISION **************************************************\n",
            "Precision Score: 0.42105263157894735\n",
            "************************************************** RECALL **************************************************\n",
            "Recall Score: 0.15384615384615385\n",
            "************************************************** F1 Score **************************************************\n",
            "F1 Score: 0.22535211267605634\n",
            "************************************************** ACCURACY **************************************************\n",
            "Accuracy Score: 0.8784530386740331\n",
            "************************************************** Model Running: SVC ************************************************** \n",
            "\n",
            "************************************************** Grid Search CV: Best Hyperparameters ************************************************** \n",
            "\n",
            "{'C': 0.05, 'gamma': 'auto', 'kernel': 'rbf'}\n",
            "************************************************** ********************** ************************************************** \n",
            "\n",
            "-------------------------------------------------- Confusion matrix --------------------------------------------------\n"
          ],
          "name": "stdout"
        },
        {
          "output_type": "display_data",
          "data": {
            "image/png": "[encoded data removed]",
            "text/plain": [
              "<Figure size 216x144 with 2 Axes>"
            ]
          },
          "metadata": {
            "tags": [],
            "needs_background": "light"
          }
        },
        {
          "output_type": "stream",
          "text": [
            "Number of misclassified percentage: 11.491712707182321\n",
            "************************************************** PRECISION **************************************************\n",
            "Precision Score: 0.0\n",
            "************************************************** RECALL **************************************************\n",
            "Recall Score: 0.0\n",
            "************************************************** F1 Score **************************************************\n",
            "F1 Score: 0.0\n",
            "************************************************** ACCURACY **************************************************\n",
            "Accuracy Score: 0.8850828729281768\n",
            "************************************************** Model Running: RandomForestClassifier ************************************************** \n",
            "\n",
            "************************************************** Grid Search CV: Best Hyperparameters ************************************************** \n",
            "\n",
            "{'bootstrap': True,\n",
            " 'max_depth': 50,\n",
            " 'max_features': 'auto',\n",
            " 'min_samples_leaf': 1,\n",
            " 'min_samples_split': 2,\n",
            " 'n_estimators': 200}\n",
            "************************************************** ********************** ************************************************** \n",
            "\n",
            "-------------------------------------------------- Confusion matrix --------------------------------------------------\n"
          ],
          "name": "stdout"
        },
        {
          "output_type": "display_data",
          "data": {
            "image/png": "[encoded data removed]",
            "text/plain": [
              "<Figure size 216x144 with 2 Axes>"
            ]
          },
          "metadata": {
            "tags": [],
            "needs_background": "light"
          }
        },
        {
          "output_type": "stream",
          "text": [
            "Number of misclassified percentage: 11.2707182320442\n",
            "************************************************** PRECISION **************************************************\n",
            "Precision Score: 0.515625\n",
            "************************************************** RECALL **************************************************\n",
            "Recall Score: 0.3173076923076923\n",
            "************************************************** F1 Score **************************************************\n",
            "F1 Score: 0.3928571428571428\n",
            "************************************************** ACCURACY **************************************************\n",
            "Accuracy Score: 0.887292817679558\n",
            "************************************************** Model Running: GradientBoostingClassifier ************************************************** \n",
            "\n",
            "************************************************** Grid Search CV: Best Hyperparameters ************************************************** \n",
            "\n",
            "{'n_estimators': 80}\n",
            "************************************************** ********************** ************************************************** \n",
            "\n",
            "-------------------------------------------------- Confusion matrix --------------------------------------------------\n"
          ],
          "name": "stdout"
        },
        {
          "output_type": "display_data",
          "data": {
            "image/png": "[encoded data removed]",
            "text/plain": [
              "<Figure size 216x144 with 2 Axes>"
            ]
          },
          "metadata": {
            "tags": [],
            "needs_background": "light"
          }
        },
        {
          "output_type": "stream",
          "text": [
            "Number of misclassified percentage: 11.049723756906078\n",
            "************************************************** PRECISION **************************************************\n",
            "Precision Score: 0.5357142857142857\n",
            "************************************************** RECALL **************************************************\n",
            "Recall Score: 0.28846153846153844\n",
            "************************************************** F1 Score **************************************************\n",
            "F1 Score: 0.37499999999999994\n",
            "************************************************** ACCURACY **************************************************\n",
            "Accuracy Score: 0.8895027624309392\n"
          ],
          "name": "stdout"
        }
      ]
    },
    {
      "cell_type": "code",
      "metadata": {
        "id": "FXpbDkQpT4Zn",
        "colab_type": "code",
        "colab": {
          "base_uri": "https://localhost:8080/",
          "height": 1000
        },
        "outputId": "213ad0ad-a4b1-4b87-d71d-b0ec9294bd52"
      },
      "source": [
        "result = dict()\n",
        "for model_id in models_id_list:\n",
        "  obj, param = ml_model_object_constructor(model_id)\n",
        "  print('*'*50, 'Model Running:', type(obj).__name__ , '*'*50, '\\n')\n",
        "  result[type(obj).__name__] = model_helper(obj, param, 5, X_train_rus,y_train_rus, X_cv, y_cv, isReturnModelObject=False)\n",
        "\n",
        "# Save the result in dictonary  \n",
        "over_all_result['rus_model'] = result"
      ],
      "execution_count": null,
      "outputs": [
        {
          "output_type": "stream",
          "text": [
            "************************************************** Model Running: KNeighborsClassifier ************************************************** \n",
            "\n",
            "************************************************** Grid Search CV: Best Hyperparameters ************************************************** \n",
            "\n",
            "{'algorithm': 'auto', 'leaf_size': 10, 'n_neighbors': 10, 'p': 1}\n",
            "************************************************** ********************** ************************************************** \n",
            "\n",
            "-------------------------------------------------- Confusion matrix --------------------------------------------------\n"
          ],
          "name": "stdout"
        },
        {
          "output_type": "display_data",
          "data": {
            "image/png": "[encoded data removed]",
            "text/plain": [
              "<Figure size 216x144 with 2 Axes>"
            ]
          },
          "metadata": {
            "tags": [],
            "needs_background": "light"
          }
        },
        {
          "output_type": "stream",
          "text": [
            "Number of misclassified percentage: 11.491712707182321\n",
            "************************************************** PRECISION **************************************************\n",
            "Precision Score: 0.0\n",
            "************************************************** RECALL **************************************************\n",
            "Recall Score: 0.0\n",
            "************************************************** F1 Score **************************************************\n",
            "F1 Score: 0.0\n",
            "************************************************** ACCURACY **************************************************\n",
            "Accuracy Score: 0.8850828729281768\n",
            "************************************************** Model Running: LogisticRegression ************************************************** \n",
            "\n",
            "************************************************** Grid Search CV: Best Hyperparameters ************************************************** \n",
            "\n",
            "{'C': 0.001, 'penalty': 'l2'}\n",
            "************************************************** ********************** ************************************************** \n",
            "\n",
            "-------------------------------------------------- Confusion matrix --------------------------------------------------\n"
          ],
          "name": "stdout"
        },
        {
          "output_type": "display_data",
          "data": {
            "image/png": "[encoded data removed]",
            "text/plain": [
              "<Figure size 216x144 with 2 Axes>"
            ]
          },
          "metadata": {
            "tags": [],
            "needs_background": "light"
          }
        },
        {
          "output_type": "stream",
          "text": [
            "Number of misclassified percentage: 11.491712707182321\n",
            "************************************************** PRECISION **************************************************\n",
            "Precision Score: 0.0\n",
            "************************************************** RECALL **************************************************\n",
            "Recall Score: 0.0\n",
            "************************************************** F1 Score **************************************************\n",
            "F1 Score: 0.0\n",
            "************************************************** ACCURACY **************************************************\n",
            "Accuracy Score: 0.8850828729281768\n",
            "************************************************** Model Running: SVC ************************************************** \n",
            "\n",
            "************************************************** Grid Search CV: Best Hyperparameters ************************************************** \n",
            "\n",
            "{'C': 0.05, 'gamma': 'auto', 'kernel': 'rbf'}\n",
            "************************************************** ********************** ************************************************** \n",
            "\n",
            "-------------------------------------------------- Confusion matrix --------------------------------------------------\n"
          ],
          "name": "stdout"
        },
        {
          "output_type": "display_data",
          "data": {
            "image/png": "[encoded data removed]",
            "text/plain": [
              "<Figure size 216x144 with 2 Axes>"
            ]
          },
          "metadata": {
            "tags": [],
            "needs_background": "light"
          }
        },
        {
          "output_type": "stream",
          "text": [
            "Number of misclassified percentage: 11.602209944751381\n",
            "************************************************** PRECISION **************************************************\n",
            "Precision Score: 0.0\n",
            "************************************************** RECALL **************************************************\n",
            "Recall Score: 0.0\n",
            "************************************************** F1 Score **************************************************\n",
            "F1 Score: 0.0\n",
            "************************************************** ACCURACY **************************************************\n",
            "Accuracy Score: 0.8839779005524862\n",
            "************************************************** Model Running: RandomForestClassifier ************************************************** \n",
            "\n",
            "************************************************** Grid Search CV: Best Hyperparameters ************************************************** \n",
            "\n",
            "{'bootstrap': True,\n",
            " 'max_depth': 30,\n",
            " 'max_features': 'auto',\n",
            " 'min_samples_leaf': 1,\n",
            " 'min_samples_split': 2,\n",
            " 'n_estimators': 100}\n",
            "************************************************** ********************** ************************************************** \n",
            "\n",
            "-------------------------------------------------- Confusion matrix --------------------------------------------------\n"
          ],
          "name": "stdout"
        },
        {
          "output_type": "display_data",
          "data": {
            "image/png": "[encoded data removed]",
            "text/plain": [
              "<Figure size 216x144 with 2 Axes>"
            ]
          },
          "metadata": {
            "tags": [],
            "needs_background": "light"
          }
        },
        {
          "output_type": "stream",
          "text": [
            "Number of misclassified percentage: 11.491712707182321\n",
            "************************************************** PRECISION **************************************************\n",
            "Precision Score: 0.0\n",
            "************************************************** RECALL **************************************************\n",
            "Recall Score: 0.0\n",
            "************************************************** F1 Score **************************************************\n",
            "F1 Score: 0.0\n",
            "************************************************** ACCURACY **************************************************\n",
            "Accuracy Score: 0.8850828729281768\n",
            "************************************************** Model Running: GradientBoostingClassifier ************************************************** \n",
            "\n",
            "************************************************** Grid Search CV: Best Hyperparameters ************************************************** \n",
            "\n",
            "{'n_estimators': 20}\n",
            "************************************************** ********************** ************************************************** \n",
            "\n",
            "-------------------------------------------------- Confusion matrix --------------------------------------------------\n"
          ],
          "name": "stdout"
        },
        {
          "output_type": "display_data",
          "data": {
            "image/png": "[encoded data removed]",
            "text/plain": [
              "<Figure size 216x144 with 2 Axes>"
            ]
          },
          "metadata": {
            "tags": [],
            "needs_background": "light"
          }
        },
        {
          "output_type": "stream",
          "text": [
            "Number of misclassified percentage: 11.491712707182321\n",
            "************************************************** PRECISION **************************************************\n",
            "Precision Score: 0.0\n",
            "************************************************** RECALL **************************************************\n",
            "Recall Score: 0.0\n",
            "************************************************** F1 Score **************************************************\n",
            "F1 Score: 0.0\n",
            "************************************************** ACCURACY **************************************************\n",
            "Accuracy Score: 0.8850828729281768\n"
          ],
          "name": "stdout"
        }
      ]
    },
    {
      "cell_type": "code",
      "metadata": {
        "id": "C9Ppvfi7T7v3",
        "colab_type": "code",
        "colab": {
          "base_uri": "https://localhost:8080/",
          "height": 1000
        },
        "outputId": "df8d98ce-471c-4d19-f994-5d63c4dc2ade"
      },
      "source": [
        "result = dict()\n",
        "for model_id in models_id_list:\n",
        "  obj, param = ml_model_object_constructor(model_id)\n",
        "  print('*'*50, 'Model Running:', type(obj).__name__ , '*'*50, '\\n')\n",
        "  result[type(obj).__name__] = model_helper(obj, param, 5, X_train_ros, y_train_ros, X_cv, y_cv, isReturnModelObject=False)\n",
        "\n",
        "# Save the result in dictonary  \n",
        "over_all_result['base_model'] = result"
      ],
      "execution_count": null,
      "outputs": [
        {
          "output_type": "stream",
          "text": [
            "************************************************** Model Running: KNeighborsClassifier ************************************************** \n",
            "\n",
            "************************************************** Grid Search CV: Best Hyperparameters ************************************************** \n",
            "\n",
            "{'algorithm': 'auto', 'leaf_size': 10, 'n_neighbors': 10, 'p': 2}\n",
            "************************************************** ********************** ************************************************** \n",
            "\n",
            "-------------------------------------------------- Confusion matrix --------------------------------------------------\n"
          ],
          "name": "stdout"
        },
        {
          "output_type": "display_data",
          "data": {
            "image/png": "[encoded data removed]",
            "text/plain": [
              "<Figure size 216x144 with 2 Axes>"
            ]
          },
          "metadata": {
            "tags": [],
            "needs_background": "light"
          }
        },
        {
          "output_type": "stream",
          "text": [
            "Number of misclassified percentage: 13.038674033149173\n",
            "************************************************** PRECISION **************************************************\n",
            "Precision Score: 0.1111111111111111\n",
            "************************************************** RECALL **************************************************\n",
            "Recall Score: 0.019230769230769232\n",
            "************************************************** F1 Score **************************************************\n",
            "F1 Score: 0.03278688524590165\n",
            "************************************************** ACCURACY **************************************************\n",
            "Accuracy Score: 0.8696132596685083\n",
            "************************************************** Model Running: LogisticRegression ************************************************** \n",
            "\n",
            "************************************************** Grid Search CV: Best Hyperparameters ************************************************** \n",
            "\n",
            "{'C': 0.001, 'penalty': 'l2'}\n",
            "************************************************** ********************** ************************************************** \n",
            "\n",
            "-------------------------------------------------- Confusion matrix --------------------------------------------------\n"
          ],
          "name": "stdout"
        },
        {
          "output_type": "display_data",
          "data": {
            "image/png": "[encoded data removed]",
            "text/plain": [
              "<Figure size 216x144 with 2 Axes>"
            ]
          },
          "metadata": {
            "tags": [],
            "needs_background": "light"
          }
        },
        {
          "output_type": "stream",
          "text": [
            "Number of misclassified percentage: 11.491712707182321\n",
            "************************************************** PRECISION **************************************************\n",
            "Precision Score: 0.0\n",
            "************************************************** RECALL **************************************************\n",
            "Recall Score: 0.0\n",
            "************************************************** F1 Score **************************************************\n",
            "F1 Score: 0.0\n",
            "************************************************** ACCURACY **************************************************\n",
            "Accuracy Score: 0.8850828729281768\n",
            "************************************************** Model Running: SVC ************************************************** \n",
            "\n",
            "************************************************** Grid Search CV: Best Hyperparameters ************************************************** \n",
            "\n",
            "{'C': 1.0, 'gamma': 'auto', 'kernel': 'rbf'}\n",
            "************************************************** ********************** ************************************************** \n",
            "\n",
            "-------------------------------------------------- Confusion matrix --------------------------------------------------\n"
          ],
          "name": "stdout"
        },
        {
          "output_type": "display_data",
          "data": {
            "image/png": "[encoded data removed]",
            "text/plain": [
              "<Figure size 216x144 with 2 Axes>"
            ]
          },
          "metadata": {
            "tags": [],
            "needs_background": "light"
          }
        },
        {
          "output_type": "stream",
          "text": [
            "Number of misclassified percentage: 11.491712707182321\n",
            "************************************************** PRECISION **************************************************\n",
            "Precision Score: 0.0\n",
            "************************************************** RECALL **************************************************\n",
            "Recall Score: 0.0\n",
            "************************************************** F1 Score **************************************************\n",
            "F1 Score: 0.0\n",
            "************************************************** ACCURACY **************************************************\n",
            "Accuracy Score: 0.8850828729281768\n",
            "************************************************** Model Running: RandomForestClassifier ************************************************** \n",
            "\n",
            "************************************************** Grid Search CV: Best Hyperparameters ************************************************** \n",
            "\n",
            "{'bootstrap': True,\n",
            " 'max_depth': 30,\n",
            " 'max_features': 'auto',\n",
            " 'min_samples_leaf': 1,\n",
            " 'min_samples_split': 2,\n",
            " 'n_estimators': 100}\n",
            "************************************************** ********************** ************************************************** \n",
            "\n",
            "-------------------------------------------------- Confusion matrix --------------------------------------------------\n"
          ],
          "name": "stdout"
        },
        {
          "output_type": "display_data",
          "data": {
            "image/png": "[encoded data removed]",
            "text/plain": [
              "<Figure size 216x144 with 2 Axes>"
            ]
          },
          "metadata": {
            "tags": [],
            "needs_background": "light"
          }
        },
        {
          "output_type": "stream",
          "text": [
            "Number of misclassified percentage: 11.491712707182321\n",
            "************************************************** PRECISION **************************************************\n",
            "Precision Score: 0.0\n",
            "************************************************** RECALL **************************************************\n",
            "Recall Score: 0.0\n",
            "************************************************** F1 Score **************************************************\n",
            "F1 Score: 0.0\n",
            "************************************************** ACCURACY **************************************************\n",
            "Accuracy Score: 0.8850828729281768\n",
            "************************************************** Model Running: GradientBoostingClassifier ************************************************** \n",
            "\n",
            "************************************************** Grid Search CV: Best Hyperparameters ************************************************** \n",
            "\n",
            "{'n_estimators': 80}\n",
            "************************************************** ********************** ************************************************** \n",
            "\n",
            "-------------------------------------------------- Confusion matrix --------------------------------------------------\n"
          ],
          "name": "stdout"
        },
        {
          "output_type": "display_data",
          "data": {
            "image/png": "[encoded data removed]",
            "text/plain": [
              "<Figure size 216x144 with 2 Axes>"
            ]
          },
          "metadata": {
            "tags": [],
            "needs_background": "light"
          }
        },
        {
          "output_type": "stream",
          "text": [
            "Number of misclassified percentage: 11.602209944751381\n",
            "************************************************** PRECISION **************************************************\n",
            "Precision Score: 0.0\n",
            "************************************************** RECALL **************************************************\n",
            "Recall Score: 0.0\n",
            "************************************************** F1 Score **************************************************\n",
            "F1 Score: 0.0\n",
            "************************************************** ACCURACY **************************************************\n",
            "Accuracy Score: 0.8839779005524862\n"
          ],
          "name": "stdout"
        }
      ]
    },
    {
      "cell_type": "code",
      "metadata": {
        "id": "ReasyfJdV_z6",
        "colab_type": "code",
        "colab": {
          "base_uri": "https://localhost:8080/",
          "height": 1000
        },
        "outputId": "936fe21e-1c5a-4642-c727-c975df6db0c0"
      },
      "source": [
        "result = dict()\n",
        "for model_id in models_id_list:\n",
        "  obj, param = ml_model_object_constructor(model_id)\n",
        "  print('*'*50, 'Model Running:', type(obj).__name__ , '*'*50, '\\n')\n",
        "  result[type(obj).__name__] = model_helper(obj, param, 5, X_train_cc, y_train_cc, X_cv, y_cv, isReturnModelObject=False)\n",
        "\n",
        "# Save the result in dictonary  \n",
        "over_all_result['cc_model'] = result"
      ],
      "execution_count": null,
      "outputs": [
        {
          "output_type": "stream",
          "text": [
            "************************************************** Model Running: KNeighborsClassifier ************************************************** \n",
            "\n",
            "************************************************** Grid Search CV: Best Hyperparameters ************************************************** \n",
            "\n",
            "{'algorithm': 'auto', 'leaf_size': 10, 'n_neighbors': 10, 'p': 1}\n",
            "************************************************** ********************** ************************************************** \n",
            "\n",
            "-------------------------------------------------- Confusion matrix --------------------------------------------------\n"
          ],
          "name": "stdout"
        },
        {
          "output_type": "display_data",
          "data": {
            "image/png": "[encoded data removed]",
            "text/plain": [
              "<Figure size 216x144 with 2 Axes>"
            ]
          },
          "metadata": {
            "tags": [],
            "needs_background": "light"
          }
        },
        {
          "output_type": "stream",
          "text": [
            "Number of misclassified percentage: 88.50828729281768\n",
            "************************************************** PRECISION **************************************************\n",
            "Precision Score: 0.11491712707182321\n",
            "************************************************** RECALL **************************************************\n",
            "Recall Score: 1.0\n",
            "************************************************** F1 Score **************************************************\n",
            "F1 Score: 0.20614469772051536\n",
            "************************************************** ACCURACY **************************************************\n",
            "Accuracy Score: 0.11491712707182321\n",
            "************************************************** Model Running: LogisticRegression ************************************************** \n",
            "\n",
            "************************************************** Grid Search CV: Best Hyperparameters ************************************************** \n",
            "\n",
            "{'C': 0.1, 'penalty': 'l2'}\n",
            "************************************************** ********************** ************************************************** \n",
            "\n",
            "-------------------------------------------------- Confusion matrix --------------------------------------------------\n"
          ],
          "name": "stdout"
        },
        {
          "output_type": "display_data",
          "data": {
            "image/png": "[encoded data removed]",
            "text/plain": [
              "<Figure size 216x144 with 2 Axes>"
            ]
          },
          "metadata": {
            "tags": [],
            "needs_background": "light"
          }
        },
        {
          "output_type": "stream",
          "text": [
            "Number of misclassified percentage: 88.28729281767956\n",
            "************************************************** PRECISION **************************************************\n",
            "Precision Score: 0.11517165005537099\n",
            "************************************************** RECALL **************************************************\n",
            "Recall Score: 1.0\n",
            "************************************************** F1 Score **************************************************\n",
            "F1 Score: 0.20655412115193644\n",
            "************************************************** ACCURACY **************************************************\n",
            "Accuracy Score: 0.11712707182320442\n",
            "************************************************** Model Running: SVC ************************************************** \n",
            "\n",
            "************************************************** Grid Search CV: Best Hyperparameters ************************************************** \n",
            "\n",
            "{'C': 0.05, 'gamma': 'auto', 'kernel': 'rbf'}\n",
            "************************************************** ********************** ************************************************** \n",
            "\n",
            "-------------------------------------------------- Confusion matrix --------------------------------------------------\n"
          ],
          "name": "stdout"
        },
        {
          "output_type": "display_data",
          "data": {
            "image/png": "[encoded data removed]",
            "text/plain": [
              "<Figure size 216x144 with 2 Axes>"
            ]
          },
          "metadata": {
            "tags": [],
            "needs_background": "light"
          }
        },
        {
          "output_type": "stream",
          "text": [
            "Number of misclassified percentage: 88.50828729281768\n",
            "************************************************** PRECISION **************************************************\n",
            "Precision Score: 0.11491712707182321\n",
            "************************************************** RECALL **************************************************\n",
            "Recall Score: 1.0\n",
            "************************************************** F1 Score **************************************************\n",
            "F1 Score: 0.20614469772051536\n",
            "************************************************** ACCURACY **************************************************\n",
            "Accuracy Score: 0.11491712707182321\n",
            "************************************************** Model Running: RandomForestClassifier ************************************************** \n",
            "\n",
            "************************************************** Grid Search CV: Best Hyperparameters ************************************************** \n",
            "\n",
            "{'bootstrap': True,\n",
            " 'max_depth': 30,\n",
            " 'max_features': 'auto',\n",
            " 'min_samples_leaf': 1,\n",
            " 'min_samples_split': 2,\n",
            " 'n_estimators': 200}\n",
            "************************************************** ********************** ************************************************** \n",
            "\n",
            "-------------------------------------------------- Confusion matrix --------------------------------------------------\n"
          ],
          "name": "stdout"
        },
        {
          "output_type": "display_data",
          "data": {
            "image/png": "[encoded data removed]",
            "text/plain": [
              "<Figure size 216x144 with 2 Axes>"
            ]
          },
          "metadata": {
            "tags": [],
            "needs_background": "light"
          }
        },
        {
          "output_type": "stream",
          "text": [
            "Number of misclassified percentage: 88.50828729281768\n",
            "************************************************** PRECISION **************************************************\n",
            "Precision Score: 0.11491712707182321\n",
            "************************************************** RECALL **************************************************\n",
            "Recall Score: 1.0\n",
            "************************************************** F1 Score **************************************************\n",
            "F1 Score: 0.20614469772051536\n",
            "************************************************** ACCURACY **************************************************\n",
            "Accuracy Score: 0.11491712707182321\n",
            "************************************************** Model Running: GradientBoostingClassifier ************************************************** \n",
            "\n",
            "************************************************** Grid Search CV: Best Hyperparameters ************************************************** \n",
            "\n",
            "{'n_estimators': 20}\n",
            "************************************************** ********************** ************************************************** \n",
            "\n",
            "-------------------------------------------------- Confusion matrix --------------------------------------------------\n"
          ],
          "name": "stdout"
        },
        {
          "output_type": "display_data",
          "data": {
            "image/png": "[encoded data removed]",
            "text/plain": [
              "<Figure size 216x144 with 2 Axes>"
            ]
          },
          "metadata": {
            "tags": [],
            "needs_background": "light"
          }
        },
        {
          "output_type": "stream",
          "text": [
            "Number of misclassified percentage: 88.50828729281768\n",
            "************************************************** PRECISION **************************************************\n",
            "Precision Score: 0.11491712707182321\n",
            "************************************************** RECALL **************************************************\n",
            "Recall Score: 1.0\n",
            "************************************************** F1 Score **************************************************\n",
            "F1 Score: 0.20614469772051536\n",
            "************************************************** ACCURACY **************************************************\n",
            "Accuracy Score: 0.11491712707182321\n"
          ],
          "name": "stdout"
        }
      ]
    },
    {
      "cell_type": "code",
      "metadata": {
        "id": "utBoRZm7XAdL",
        "colab_type": "code",
        "colab": {
          "base_uri": "https://localhost:8080/",
          "height": 1000
        },
        "outputId": "7a05a60e-bbd2-4e53-fea8-9335103de821"
      },
      "source": [
        "result = dict()\n",
        "for model_id in models_id_list:\n",
        "  obj, param = ml_model_object_constructor(model_id)\n",
        "  print('*'*50, 'Model Running:', type(obj).__name__ , '*'*50, '\\n')\n",
        "  result[type(obj).__name__] = model_helper(obj, param, 5, X_train_tl, y_train_tl, X_cv, y_cv, isReturnModelObject=False)\n",
        "\n",
        "# Save the result in dictonary  \n",
        "over_all_result['tl_model'] = result"
      ],
      "execution_count": null,
      "outputs": [
        {
          "output_type": "stream",
          "text": [
            "************************************************** Model Running: KNeighborsClassifier ************************************************** \n",
            "\n",
            "************************************************** Grid Search CV: Best Hyperparameters ************************************************** \n",
            "\n",
            "{'algorithm': 'auto', 'leaf_size': 10, 'n_neighbors': 10, 'p': 2}\n",
            "************************************************** ********************** ************************************************** \n",
            "\n",
            "-------------------------------------------------- Confusion matrix --------------------------------------------------\n"
          ],
          "name": "stdout"
        },
        {
          "output_type": "display_data",
          "data": {
            "image/png": "[encoded data removed]",
            "text/plain": [
              "<Figure size 216x144 with 2 Axes>"
            ]
          },
          "metadata": {
            "tags": [],
            "needs_background": "light"
          }
        },
        {
          "output_type": "stream",
          "text": [
            "Number of misclassified percentage: 12.817679558011049\n",
            "************************************************** PRECISION **************************************************\n",
            "Precision Score: 0.38\n",
            "************************************************** RECALL **************************************************\n",
            "Recall Score: 0.18269230769230768\n",
            "************************************************** F1 Score **************************************************\n",
            "F1 Score: 0.24675324675324672\n",
            "************************************************** ACCURACY **************************************************\n",
            "Accuracy Score: 0.8718232044198895\n",
            "************************************************** Model Running: LogisticRegression ************************************************** \n",
            "\n",
            "************************************************** Grid Search CV: Best Hyperparameters ************************************************** \n",
            "\n",
            "{'C': 1, 'penalty': 'l2'}\n",
            "************************************************** ********************** ************************************************** \n",
            "\n",
            "-------------------------------------------------- Confusion matrix --------------------------------------------------\n"
          ],
          "name": "stdout"
        },
        {
          "output_type": "display_data",
          "data": {
            "image/png": "[encoded data removed]",
            "text/plain": [
              "<Figure size 216x144 with 2 Axes>"
            ]
          },
          "metadata": {
            "tags": [],
            "needs_background": "light"
          }
        },
        {
          "output_type": "stream",
          "text": [
            "Number of misclassified percentage: 12.70718232044199\n",
            "************************************************** PRECISION **************************************************\n",
            "Precision Score: 0.39622641509433965\n",
            "************************************************** RECALL **************************************************\n",
            "Recall Score: 0.20192307692307693\n",
            "************************************************** F1 Score **************************************************\n",
            "F1 Score: 0.2675159235668789\n",
            "************************************************** ACCURACY **************************************************\n",
            "Accuracy Score: 0.8729281767955801\n",
            "************************************************** Model Running: SVC ************************************************** \n",
            "\n",
            "************************************************** Grid Search CV: Best Hyperparameters ************************************************** \n",
            "\n",
            "{'C': 0.05, 'gamma': 'auto', 'kernel': 'rbf'}\n",
            "************************************************** ********************** ************************************************** \n",
            "\n",
            "-------------------------------------------------- Confusion matrix --------------------------------------------------\n"
          ],
          "name": "stdout"
        },
        {
          "output_type": "display_data",
          "data": {
            "image/png": "[encoded data removed]",
            "text/plain": [
              "<Figure size 216x144 with 2 Axes>"
            ]
          },
          "metadata": {
            "tags": [],
            "needs_background": "light"
          }
        },
        {
          "output_type": "stream",
          "text": [
            "Number of misclassified percentage: 11.823204419889503\n",
            "************************************************** PRECISION **************************************************\n",
            "Precision Score: 0.0\n",
            "************************************************** RECALL **************************************************\n",
            "Recall Score: 0.0\n",
            "************************************************** F1 Score **************************************************\n",
            "F1 Score: 0.0\n",
            "************************************************** ACCURACY **************************************************\n",
            "Accuracy Score: 0.881767955801105\n",
            "************************************************** Model Running: RandomForestClassifier ************************************************** \n",
            "\n",
            "************************************************** Grid Search CV: Best Hyperparameters ************************************************** \n",
            "\n",
            "{'bootstrap': True,\n",
            " 'max_depth': 50,\n",
            " 'max_features': 'auto',\n",
            " 'min_samples_leaf': 1,\n",
            " 'min_samples_split': 2,\n",
            " 'n_estimators': 200}\n",
            "************************************************** ********************** ************************************************** \n",
            "\n",
            "-------------------------------------------------- Confusion matrix --------------------------------------------------\n"
          ],
          "name": "stdout"
        },
        {
          "output_type": "display_data",
          "data": {
            "image/png": "[encoded data removed]",
            "text/plain": [
              "<Figure size 216x144 with 2 Axes>"
            ]
          },
          "metadata": {
            "tags": [],
            "needs_background": "light"
          }
        },
        {
          "output_type": "stream",
          "text": [
            "Number of misclassified percentage: 11.933701657458563\n",
            "************************************************** PRECISION **************************************************\n",
            "Precision Score: 0.47674418604651164\n",
            "************************************************** RECALL **************************************************\n",
            "Recall Score: 0.3942307692307692\n",
            "************************************************** F1 Score **************************************************\n",
            "F1 Score: 0.43157894736842106\n",
            "************************************************** ACCURACY **************************************************\n",
            "Accuracy Score: 0.8806629834254144\n",
            "************************************************** Model Running: GradientBoostingClassifier ************************************************** \n",
            "\n",
            "************************************************** Grid Search CV: Best Hyperparameters ************************************************** \n",
            "\n",
            "{'n_estimators': 80}\n",
            "************************************************** ********************** ************************************************** \n",
            "\n",
            "-------------------------------------------------- Confusion matrix --------------------------------------------------\n"
          ],
          "name": "stdout"
        },
        {
          "output_type": "display_data",
          "data": {
            "image/png": "[encoded data removed]",
            "text/plain": [
              "<Figure size 216x144 with 2 Axes>"
            ]
          },
          "metadata": {
            "tags": [],
            "needs_background": "light"
          }
        },
        {
          "output_type": "stream",
          "text": [
            "Number of misclassified percentage: 11.933701657458563\n",
            "************************************************** PRECISION **************************************************\n",
            "Precision Score: 0.47435897435897434\n",
            "************************************************** RECALL **************************************************\n",
            "Recall Score: 0.3557692307692308\n",
            "************************************************** F1 Score **************************************************\n",
            "F1 Score: 0.4065934065934066\n",
            "************************************************** ACCURACY **************************************************\n",
            "Accuracy Score: 0.8806629834254144\n"
          ],
          "name": "stdout"
        }
      ]
    },
    {
      "cell_type": "code",
      "metadata": {
        "id": "UUCLSDMPXJ4I",
        "colab_type": "code",
        "colab": {
          "base_uri": "https://localhost:8080/",
          "height": 1000
        },
        "outputId": "d009bc8e-dbec-44e3-b833-f1f1bddcba66"
      },
      "source": [
        "result = dict()\n",
        "for model_id in models_id_list:\n",
        "  obj, param = ml_model_object_constructor(model_id)\n",
        "  print('*'*50, 'Model Running:', type(obj).__name__ , '*'*50, '\\n')\n",
        "  result[type(obj).__name__] = model_helper(obj, param, 5, X_train_smote, y_train_smote, X_cv, y_cv, isReturnModelObject=False)\n",
        "\n",
        "# Save the result in dictonary  \n",
        "over_all_result['smote_model'] = result"
      ],
      "execution_count": null,
      "outputs": [
        {
          "output_type": "stream",
          "text": [
            "************************************************** Model Running: KNeighborsClassifier ************************************************** \n",
            "\n",
            "************************************************** Grid Search CV: Best Hyperparameters ************************************************** \n",
            "\n",
            "{'algorithm': 'auto', 'leaf_size': 50, 'n_neighbors': 10, 'p': 1}\n",
            "************************************************** ********************** ************************************************** \n",
            "\n",
            "-------------------------------------------------- Confusion matrix --------------------------------------------------\n"
          ],
          "name": "stdout"
        },
        {
          "output_type": "display_data",
          "data": {
            "image/png": "[encoded data removed]",
            "text/plain": [
              "<Figure size 216x144 with 2 Axes>"
            ]
          },
          "metadata": {
            "tags": [],
            "needs_background": "light"
          }
        },
        {
          "output_type": "stream",
          "text": [
            "Number of misclassified percentage: 20.662983425414364\n",
            "************************************************** PRECISION **************************************************\n",
            "Precision Score: 0.3033175355450237\n",
            "************************************************** RECALL **************************************************\n",
            "Recall Score: 0.6153846153846154\n",
            "************************************************** F1 Score **************************************************\n",
            "F1 Score: 0.40634920634920635\n",
            "************************************************** ACCURACY **************************************************\n",
            "Accuracy Score: 0.7933701657458564\n",
            "************************************************** Model Running: LogisticRegression ************************************************** \n",
            "\n",
            "************************************************** Grid Search CV: Best Hyperparameters ************************************************** \n",
            "\n",
            "{'C': 0.01, 'penalty': 'l2'}\n",
            "************************************************** ********************** ************************************************** \n",
            "\n",
            "-------------------------------------------------- Confusion matrix --------------------------------------------------\n"
          ],
          "name": "stdout"
        },
        {
          "output_type": "display_data",
          "data": {
            "image/png": "[encoded data removed]",
            "text/plain": [
              "<Figure size 216x144 with 2 Axes>"
            ]
          },
          "metadata": {
            "tags": [],
            "needs_background": "light"
          }
        },
        {
          "output_type": "stream",
          "text": [
            "Number of misclassified percentage: 15.69060773480663\n",
            "************************************************** PRECISION **************************************************\n",
            "Precision Score: 0.38125\n",
            "************************************************** RECALL **************************************************\n",
            "Recall Score: 0.5865384615384616\n",
            "************************************************** F1 Score **************************************************\n",
            "F1 Score: 0.4621212121212121\n",
            "************************************************** ACCURACY **************************************************\n",
            "Accuracy Score: 0.8430939226519337\n",
            "************************************************** Model Running: SVC ************************************************** \n",
            "\n",
            "************************************************** Grid Search CV: Best Hyperparameters ************************************************** \n",
            "\n",
            "{'C': 1.0, 'gamma': 'auto', 'kernel': 'rbf'}\n",
            "************************************************** ********************** ************************************************** \n",
            "\n",
            "-------------------------------------------------- Confusion matrix --------------------------------------------------\n"
          ],
          "name": "stdout"
        },
        {
          "output_type": "display_data",
          "data": {
            "image/png": "[encoded data removed]",
            "text/plain": [
              "<Figure size 216x144 with 2 Axes>"
            ]
          },
          "metadata": {
            "tags": [],
            "needs_background": "light"
          }
        },
        {
          "output_type": "stream",
          "text": [
            "Number of misclassified percentage: 13.259668508287293\n",
            "************************************************** PRECISION **************************************************\n",
            "Precision Score: 0.05555555555555555\n",
            "************************************************** RECALL **************************************************\n",
            "Recall Score: 0.009615384615384616\n",
            "************************************************** F1 Score **************************************************\n",
            "F1 Score: 0.016393442622950824\n",
            "************************************************** ACCURACY **************************************************\n",
            "Accuracy Score: 0.8674033149171271\n",
            "************************************************** Model Running: RandomForestClassifier ************************************************** \n",
            "\n",
            "************************************************** Grid Search CV: Best Hyperparameters ************************************************** \n",
            "\n",
            "{'bootstrap': True,\n",
            " 'max_depth': 50,\n",
            " 'max_features': 'auto',\n",
            " 'min_samples_leaf': 1,\n",
            " 'min_samples_split': 2,\n",
            " 'n_estimators': 300}\n",
            "************************************************** ********************** ************************************************** \n",
            "\n",
            "-------------------------------------------------- Confusion matrix --------------------------------------------------\n"
          ],
          "name": "stdout"
        },
        {
          "output_type": "display_data",
          "data": {
            "image/png": "[encoded data removed]",
            "text/plain": [
              "<Figure size 216x144 with 2 Axes>"
            ]
          },
          "metadata": {
            "tags": [],
            "needs_background": "light"
          }
        },
        {
          "output_type": "stream",
          "text": [
            "Number of misclassified percentage: 11.602209944751381\n",
            "************************************************** PRECISION **************************************************\n",
            "Precision Score: 0.48484848484848486\n",
            "************************************************** RECALL **************************************************\n",
            "Recall Score: 0.15384615384615385\n",
            "************************************************** F1 Score **************************************************\n",
            "F1 Score: 0.23357664233576642\n",
            "************************************************** ACCURACY **************************************************\n",
            "Accuracy Score: 0.8839779005524862\n",
            "************************************************** Model Running: GradientBoostingClassifier ************************************************** \n",
            "\n",
            "************************************************** Grid Search CV: Best Hyperparameters ************************************************** \n",
            "\n",
            "{'n_estimators': 50}\n",
            "************************************************** ********************** ************************************************** \n",
            "\n",
            "-------------------------------------------------- Confusion matrix --------------------------------------------------\n"
          ],
          "name": "stdout"
        },
        {
          "output_type": "display_data",
          "data": {
            "image/png": "[encoded data removed]",
            "text/plain": [
              "<Figure size 216x144 with 2 Axes>"
            ]
          },
          "metadata": {
            "tags": [],
            "needs_background": "light"
          }
        },
        {
          "output_type": "stream",
          "text": [
            "Number of misclassified percentage: 12.154696132596685\n",
            "************************************************** PRECISION **************************************************\n",
            "Precision Score: 0.4605263157894737\n",
            "************************************************** RECALL **************************************************\n",
            "Recall Score: 0.33653846153846156\n",
            "************************************************** F1 Score **************************************************\n",
            "F1 Score: 0.3888888888888889\n",
            "************************************************** ACCURACY **************************************************\n",
            "Accuracy Score: 0.8784530386740331\n"
          ],
          "name": "stdout"
        }
      ]
    },
    {
      "cell_type": "code",
      "metadata": {
        "id": "D9kfjfCMXWVz",
        "colab_type": "code",
        "colab": {
          "base_uri": "https://localhost:8080/",
          "height": 1000
        },
        "outputId": "c1efd71f-5ef7-4e00-81be-4a19c2f1596d"
      },
      "source": [
        "result = dict()\n",
        "for model_id in models_id_list:\n",
        "  obj, param = ml_model_object_constructor(model_id)\n",
        "  print('*'*50, 'Model Running:', type(obj).__name__ , '*'*50, '\\n')\n",
        "  result[type(obj).__name__] = model_helper(obj, param, 5, X_train_smote_tomek, y_train_smote_tomek, X_cv, y_cv, isReturnModelObject=False)\n",
        "\n",
        "# Save the result in dictonary  \n",
        "over_all_result['smote_tomek_model'] = result"
      ],
      "execution_count": null,
      "outputs": [
        {
          "output_type": "stream",
          "text": [
            "************************************************** Model Running: KNeighborsClassifier ************************************************** \n",
            "\n",
            "************************************************** Grid Search CV: Best Hyperparameters ************************************************** \n",
            "\n",
            "{'algorithm': 'auto', 'leaf_size': 30, 'n_neighbors': 10, 'p': 1}\n",
            "************************************************** ********************** ************************************************** \n",
            "\n",
            "-------------------------------------------------- Confusion matrix --------------------------------------------------\n"
          ],
          "name": "stdout"
        },
        {
          "output_type": "display_data",
          "data": {
            "image/png": "[encoded data removed]",
            "text/plain": [
              "<Figure size 216x144 with 2 Axes>"
            ]
          },
          "metadata": {
            "tags": [],
            "needs_background": "light"
          }
        },
        {
          "output_type": "stream",
          "text": [
            "Number of misclassified percentage: 19.88950276243094\n",
            "************************************************** PRECISION **************************************************\n",
            "Precision Score: 0.3173076923076923\n",
            "************************************************** RECALL **************************************************\n",
            "Recall Score: 0.6346153846153846\n",
            "************************************************** F1 Score **************************************************\n",
            "F1 Score: 0.4230769230769231\n",
            "************************************************** ACCURACY **************************************************\n",
            "Accuracy Score: 0.8011049723756906\n",
            "************************************************** Model Running: LogisticRegression ************************************************** \n",
            "\n",
            "************************************************** Grid Search CV: Best Hyperparameters ************************************************** \n",
            "\n",
            "{'C': 0.01, 'penalty': 'l2'}\n",
            "************************************************** ********************** ************************************************** \n",
            "\n",
            "-------------------------------------------------- Confusion matrix --------------------------------------------------\n"
          ],
          "name": "stdout"
        },
        {
          "output_type": "display_data",
          "data": {
            "image/png": "[encoded data removed]",
            "text/plain": [
              "<Figure size 216x144 with 2 Axes>"
            ]
          },
          "metadata": {
            "tags": [],
            "needs_background": "light"
          }
        },
        {
          "output_type": "stream",
          "text": [
            "Number of misclassified percentage: 15.58011049723757\n",
            "************************************************** PRECISION **************************************************\n",
            "Precision Score: 0.38650306748466257\n",
            "************************************************** RECALL **************************************************\n",
            "Recall Score: 0.6057692307692307\n",
            "************************************************** F1 Score **************************************************\n",
            "F1 Score: 0.47191011235955055\n",
            "************************************************** ACCURACY **************************************************\n",
            "Accuracy Score: 0.8441988950276244\n",
            "************************************************** Model Running: SVC ************************************************** \n",
            "\n",
            "************************************************** Grid Search CV: Best Hyperparameters ************************************************** \n",
            "\n",
            "{'C': 1.0, 'gamma': 'auto', 'kernel': 'rbf'}\n",
            "************************************************** ********************** ************************************************** \n",
            "\n",
            "-------------------------------------------------- Confusion matrix --------------------------------------------------\n"
          ],
          "name": "stdout"
        },
        {
          "output_type": "display_data",
          "data": {
            "image/png": "[encoded data removed]",
            "text/plain": [
              "<Figure size 216x144 with 2 Axes>"
            ]
          },
          "metadata": {
            "tags": [],
            "needs_background": "light"
          }
        },
        {
          "output_type": "stream",
          "text": [
            "Number of misclassified percentage: 13.922651933701658\n",
            "************************************************** PRECISION **************************************************\n",
            "Precision Score: 0.07692307692307693\n",
            "************************************************** RECALL **************************************************\n",
            "Recall Score: 0.019230769230769232\n",
            "************************************************** F1 Score **************************************************\n",
            "F1 Score: 0.03076923076923077\n",
            "************************************************** ACCURACY **************************************************\n",
            "Accuracy Score: 0.8607734806629834\n",
            "************************************************** Model Running: RandomForestClassifier ************************************************** \n",
            "\n",
            "************************************************** Grid Search CV: Best Hyperparameters ************************************************** \n",
            "\n",
            "{'bootstrap': True,\n",
            " 'max_depth': 30,\n",
            " 'max_features': 'auto',\n",
            " 'min_samples_leaf': 1,\n",
            " 'min_samples_split': 2,\n",
            " 'n_estimators': 100}\n",
            "************************************************** ********************** ************************************************** \n",
            "\n",
            "-------------------------------------------------- Confusion matrix --------------------------------------------------\n"
          ],
          "name": "stdout"
        },
        {
          "output_type": "display_data",
          "data": {
            "image/png": "[encoded data removed]",
            "text/plain": [
              "<Figure size 216x144 with 2 Axes>"
            ]
          },
          "metadata": {
            "tags": [],
            "needs_background": "light"
          }
        },
        {
          "output_type": "stream",
          "text": [
            "Number of misclassified percentage: 11.38121546961326\n",
            "************************************************** PRECISION **************************************************\n",
            "Precision Score: 0.5161290322580645\n",
            "************************************************** RECALL **************************************************\n",
            "Recall Score: 0.15384615384615385\n",
            "************************************************** F1 Score **************************************************\n",
            "F1 Score: 0.23703703703703705\n",
            "************************************************** ACCURACY **************************************************\n",
            "Accuracy Score: 0.8861878453038674\n",
            "************************************************** Model Running: GradientBoostingClassifier ************************************************** \n",
            "\n",
            "************************************************** Grid Search CV: Best Hyperparameters ************************************************** \n",
            "\n",
            "{'n_estimators': 60}\n",
            "************************************************** ********************** ************************************************** \n",
            "\n",
            "-------------------------------------------------- Confusion matrix --------------------------------------------------\n"
          ],
          "name": "stdout"
        },
        {
          "output_type": "display_data",
          "data": {
            "image/png": "[encoded data removed]",
            "text/plain": [
              "<Figure size 216x144 with 2 Axes>"
            ]
          },
          "metadata": {
            "tags": [],
            "needs_background": "light"
          }
        },
        {
          "output_type": "stream",
          "text": [
            "Number of misclassified percentage: 11.2707182320442\n",
            "************************************************** PRECISION **************************************************\n",
            "Precision Score: 0.5142857142857142\n",
            "************************************************** RECALL **************************************************\n",
            "Recall Score: 0.34615384615384615\n",
            "************************************************** F1 Score **************************************************\n",
            "F1 Score: 0.41379310344827586\n",
            "************************************************** ACCURACY **************************************************\n",
            "Accuracy Score: 0.887292817679558\n"
          ],
          "name": "stdout"
        }
      ]
    },
    {
      "cell_type": "markdown",
      "metadata": {
        "id": "lBj5cE0e2KqF",
        "colab_type": "text"
      },
      "source": [
        "## **9. Summary Result**"
      ]
    },
    {
      "cell_type": "code",
      "metadata": {
        "id": "UmIUlPqY8Wbg",
        "colab_type": "code",
        "colab": {}
      },
      "source": [
        "over_all_result"
      ],
      "execution_count": null,
      "outputs": []
    },
    {
      "cell_type": "code",
      "metadata": {
        "id": "kd014kyc0yGZ",
        "colab_type": "code",
        "colab": {
          "base_uri": "https://localhost:8080/",
          "height": 1000
        },
        "outputId": "bfd10f84-e9c8-4a5f-8996-7647b84f0a57"
      },
      "source": [
        "from texttable import Texttable\n",
        "column_names = ['Model', 'Precision', 'Recall','F1 Score', 'Miss Classification Percent', 'Accuracy']\n",
        "for item in over_all_result.items():\n",
        "  print(\"Models Based on Resampling Methods: {}\".format(item[0]))\n",
        "  t = Texttable()\n",
        "  for k,v in item[1].items():\n",
        "    # print(model)\n",
        "    t.add_rows([column_names, [k, v.get('precision'), v.get('recall'), v.get('f1_score'), v.get('miss_class_pts'), v.get('accuracy')]]) \n",
        "  print(t.draw())"
      ],
      "execution_count": null,
      "outputs": [
        {
          "output_type": "stream",
          "text": [
            "Models Based on Resampling Methods: base_model\n",
            "+-----------------+-----------+--------+----------+-----------------+----------+\n",
            "|      Model      | Precision | Recall | F1 Score |      Miss       | Accuracy |\n",
            "|                 |           |        |          | Classification  |          |\n",
            "|                 |           |        |          |     Percent     |          |\n",
            "+=================+===========+========+==========+=================+==========+\n",
            "| KNeighborsClass | 0.111     | 0.019  | 0.033    | 13.039          | 0.870    |\n",
            "| ifier           |           |        |          |                 |          |\n",
            "+-----------------+-----------+--------+----------+-----------------+----------+\n",
            "| LogisticRegress | 0         | 0      | 0        | 11.492          | 0.885    |\n",
            "| ion             |           |        |          |                 |          |\n",
            "+-----------------+-----------+--------+----------+-----------------+----------+\n",
            "| SVC             | 0         | 0      | 0        | 11.492          | 0.885    |\n",
            "+-----------------+-----------+--------+----------+-----------------+----------+\n",
            "| RandomForestCla | 0         | 0      | 0        | 11.492          | 0.885    |\n",
            "| ssifier         |           |        |          |                 |          |\n",
            "+-----------------+-----------+--------+----------+-----------------+----------+\n",
            "| GradientBoostin | 0         | 0      | 0        | 11.602          | 0.884    |\n",
            "| gClassifier     |           |        |          |                 |          |\n",
            "+-----------------+-----------+--------+----------+-----------------+----------+\n",
            "Models Based on Resampling Methods: rus_model\n",
            "+-----------------+-----------+--------+----------+-----------------+----------+\n",
            "|      Model      | Precision | Recall | F1 Score |      Miss       | Accuracy |\n",
            "|                 |           |        |          | Classification  |          |\n",
            "|                 |           |        |          |     Percent     |          |\n",
            "+=================+===========+========+==========+=================+==========+\n",
            "| KNeighborsClass | 0         | 0      | 0        | 11.492          | 0.885    |\n",
            "| ifier           |           |        |          |                 |          |\n",
            "+-----------------+-----------+--------+----------+-----------------+----------+\n",
            "| LogisticRegress | 0         | 0      | 0        | 11.492          | 0.885    |\n",
            "| ion             |           |        |          |                 |          |\n",
            "+-----------------+-----------+--------+----------+-----------------+----------+\n",
            "| SVC             | 0         | 0      | 0        | 11.602          | 0.884    |\n",
            "+-----------------+-----------+--------+----------+-----------------+----------+\n",
            "| RandomForestCla | 0         | 0      | 0        | 11.492          | 0.885    |\n",
            "| ssifier         |           |        |          |                 |          |\n",
            "+-----------------+-----------+--------+----------+-----------------+----------+\n",
            "| GradientBoostin | 0         | 0      | 0        | 11.492          | 0.885    |\n",
            "| gClassifier     |           |        |          |                 |          |\n",
            "+-----------------+-----------+--------+----------+-----------------+----------+\n",
            "Models Based on Resampling Methods: cc_model\n",
            "+-----------------+-----------+--------+----------+-----------------+----------+\n",
            "|      Model      | Precision | Recall | F1 Score |      Miss       | Accuracy |\n",
            "|                 |           |        |          | Classification  |          |\n",
            "|                 |           |        |          |     Percent     |          |\n",
            "+=================+===========+========+==========+=================+==========+\n",
            "| KNeighborsClass | 0.115     | 1      | 0.206    | 88.508          | 0.115    |\n",
            "| ifier           |           |        |          |                 |          |\n",
            "+-----------------+-----------+--------+----------+-----------------+----------+\n",
            "| LogisticRegress | 0.115     | 1      | 0.207    | 88.287          | 0.117    |\n",
            "| ion             |           |        |          |                 |          |\n",
            "+-----------------+-----------+--------+----------+-----------------+----------+\n",
            "| SVC             | 0.115     | 1      | 0.206    | 88.508          | 0.115    |\n",
            "+-----------------+-----------+--------+----------+-----------------+----------+\n",
            "| RandomForestCla | 0.115     | 1      | 0.206    | 88.508          | 0.115    |\n",
            "| ssifier         |           |        |          |                 |          |\n",
            "+-----------------+-----------+--------+----------+-----------------+----------+\n",
            "| GradientBoostin | 0.115     | 1      | 0.206    | 88.508          | 0.115    |\n",
            "| gClassifier     |           |        |          |                 |          |\n",
            "+-----------------+-----------+--------+----------+-----------------+----------+\n",
            "Models Based on Resampling Methods: tl_model\n",
            "+-----------------+-----------+--------+----------+-----------------+----------+\n",
            "|      Model      | Precision | Recall | F1 Score |      Miss       | Accuracy |\n",
            "|                 |           |        |          | Classification  |          |\n",
            "|                 |           |        |          |     Percent     |          |\n",
            "+=================+===========+========+==========+=================+==========+\n",
            "| KNeighborsClass | 0.380     | 0.183  | 0.247    | 12.818          | 0.872    |\n",
            "| ifier           |           |        |          |                 |          |\n",
            "+-----------------+-----------+--------+----------+-----------------+----------+\n",
            "| LogisticRegress | 0.396     | 0.202  | 0.268    | 12.707          | 0.873    |\n",
            "| ion             |           |        |          |                 |          |\n",
            "+-----------------+-----------+--------+----------+-----------------+----------+\n",
            "| SVC             | 0         | 0      | 0        | 11.823          | 0.882    |\n",
            "+-----------------+-----------+--------+----------+-----------------+----------+\n",
            "| RandomForestCla | 0.477     | 0.394  | 0.432    | 11.934          | 0.881    |\n",
            "| ssifier         |           |        |          |                 |          |\n",
            "+-----------------+-----------+--------+----------+-----------------+----------+\n",
            "| GradientBoostin | 0.474     | 0.356  | 0.407    | 11.934          | 0.881    |\n",
            "| gClassifier     |           |        |          |                 |          |\n",
            "+-----------------+-----------+--------+----------+-----------------+----------+\n",
            "Models Based on Resampling Methods: smote_model\n",
            "+-----------------+-----------+--------+----------+-----------------+----------+\n",
            "|      Model      | Precision | Recall | F1 Score |      Miss       | Accuracy |\n",
            "|                 |           |        |          | Classification  |          |\n",
            "|                 |           |        |          |     Percent     |          |\n",
            "+=================+===========+========+==========+=================+==========+\n",
            "| KNeighborsClass | 0.303     | 0.615  | 0.406    | 20.663          | 0.793    |\n",
            "| ifier           |           |        |          |                 |          |\n",
            "+-----------------+-----------+--------+----------+-----------------+----------+\n",
            "| LogisticRegress | 0.381     | 0.587  | 0.462    | 15.691          | 0.843    |\n",
            "| ion             |           |        |          |                 |          |\n",
            "+-----------------+-----------+--------+----------+-----------------+----------+\n",
            "| SVC             | 0.056     | 0.010  | 0.016    | 13.260          | 0.867    |\n",
            "+-----------------+-----------+--------+----------+-----------------+----------+\n",
            "| RandomForestCla | 0.485     | 0.154  | 0.234    | 11.602          | 0.884    |\n",
            "| ssifier         |           |        |          |                 |          |\n",
            "+-----------------+-----------+--------+----------+-----------------+----------+\n",
            "| GradientBoostin | 0.461     | 0.337  | 0.389    | 12.155          | 0.878    |\n",
            "| gClassifier     |           |        |          |                 |          |\n",
            "+-----------------+-----------+--------+----------+-----------------+----------+\n",
            "Models Based on Resampling Methods: smote_tomek_model\n",
            "+-----------------+-----------+--------+----------+-----------------+----------+\n",
            "|      Model      | Precision | Recall | F1 Score |      Miss       | Accuracy |\n",
            "|                 |           |        |          | Classification  |          |\n",
            "|                 |           |        |          |     Percent     |          |\n",
            "+=================+===========+========+==========+=================+==========+\n",
            "| KNeighborsClass | 0.317     | 0.635  | 0.423    | 19.890          | 0.801    |\n",
            "| ifier           |           |        |          |                 |          |\n",
            "+-----------------+-----------+--------+----------+-----------------+----------+\n",
            "| LogisticRegress | 0.387     | 0.606  | 0.472    | 15.580          | 0.844    |\n",
            "| ion             |           |        |          |                 |          |\n",
            "+-----------------+-----------+--------+----------+-----------------+----------+\n",
            "| SVC             | 0.077     | 0.019  | 0.031    | 13.923          | 0.861    |\n",
            "+-----------------+-----------+--------+----------+-----------------+----------+\n",
            "| RandomForestCla | 0.516     | 0.154  | 0.237    | 11.381          | 0.886    |\n",
            "| ssifier         |           |        |          |                 |          |\n",
            "+-----------------+-----------+--------+----------+-----------------+----------+\n",
            "| GradientBoostin | 0.514     | 0.346  | 0.414    | 11.271          | 0.887    |\n",
            "| gClassifier     |           |        |          |                 |          |\n",
            "+-----------------+-----------+--------+----------+-----------------+----------+\n"
          ],
          "name": "stdout"
        }
      ]
    },
    {
      "cell_type": "code",
      "metadata": {
        "id": "LUl3JBsp4RFC",
        "colab_type": "code",
        "colab": {
          "base_uri": "https://localhost:8080/",
          "height": 460
        },
        "outputId": "e6027df7-05b6-4b62-d6fa-3f230f9bed08"
      },
      "source": [
        "result = dict()\n",
        "models_id_list = [6]\n",
        "obj, param = ml_model_object_constructor(6)\n",
        "print('*'*50, 'Model Running:', type(obj).__name__ , '*'*50, '\\n')\n",
        "model_obj = model_helper(obj, param, 10, X_train_smote_tomek, y_train_smote_tomek, X_cv, y_cv, isReturnModelObject=True)\n"
      ],
      "execution_count": null,
      "outputs": [
        {
          "output_type": "stream",
          "text": [
            "************************************************** Model Running: GradientBoostingClassifier ************************************************** \n",
            "\n",
            "************************************************** Grid Search CV: Best Hyperparameters ************************************************** \n",
            "\n",
            "{'n_estimators': 50}\n",
            "************************************************** ********************** ************************************************** \n",
            "\n",
            "-------------------------------------------------- Confusion matrix --------------------------------------------------\n"
          ],
          "name": "stdout"
        },
        {
          "output_type": "display_data",
          "data": {
            "image/png": "[encoded data removed]",
            "text/plain": [
              "<Figure size 216x144 with 2 Axes>"
            ]
          },
          "metadata": {
            "tags": [],
            "needs_background": "light"
          }
        },
        {
          "output_type": "stream",
          "text": [
            "Number of misclassified percentage: 11.712707182320441\n",
            "************************************************** PRECISION **************************************************\n",
            "Precision Score: 0.4868421052631579\n",
            "************************************************** RECALL **************************************************\n",
            "Recall Score: 0.3557692307692308\n",
            "************************************************** F1 Score **************************************************\n",
            "F1 Score: 0.41111111111111115\n",
            "************************************************** ACCURACY **************************************************\n",
            "Accuracy Score: 0.8828729281767956\n"
          ],
          "name": "stdout"
        }
      ]
    },
    {
      "cell_type": "code",
      "metadata": {
        "id": "YDWzlnNR9Hkb",
        "colab_type": "code",
        "colab": {
          "base_uri": "https://localhost:8080/",
          "height": 323
        },
        "outputId": "1da36958-81ba-40b7-f62d-70d417203c20"
      },
      "source": [
        "y_test_predict = model_obj.predict(X_cv)\n",
        "submission_test.drop(['id', 'y'], axis=1, inplace=True)"
      ],
      "execution_count": null,
      "outputs": [
        {
          "output_type": "error",
          "ename": "KeyError",
          "evalue": "ignored",
          "traceback": [
            "\u001b[0;31m---------------------------------------------------------------------------\u001b[0m",
            "\u001b[0;31mKeyError\u001b[0m                                  Traceback (most recent call last)",
            "\u001b[0;32m<ipython-input-109-3f6f5c48bacf>\u001b[0m in \u001b[0;36m<module>\u001b[0;34m()\u001b[0m\n\u001b[1;32m      1\u001b[0m \u001b[0my_test_predict\u001b[0m \u001b[0;34m=\u001b[0m \u001b[0mmodel_obj\u001b[0m\u001b[0;34m.\u001b[0m\u001b[0mpredict\u001b[0m\u001b[0;34m(\u001b[0m\u001b[0mX_cv\u001b[0m\u001b[0;34m)\u001b[0m\u001b[0;34m\u001b[0m\u001b[0;34m\u001b[0m\u001b[0m\n\u001b[0;32m----> 2\u001b[0;31m \u001b[0msubmission_test\u001b[0m\u001b[0;34m.\u001b[0m\u001b[0mdrop\u001b[0m\u001b[0;34m(\u001b[0m\u001b[0;34m[\u001b[0m\u001b[0;34m'id'\u001b[0m\u001b[0;34m,\u001b[0m \u001b[0;34m'y'\u001b[0m\u001b[0;34m]\u001b[0m\u001b[0;34m,\u001b[0m \u001b[0maxis\u001b[0m\u001b[0;34m=\u001b[0m\u001b[0;36m1\u001b[0m\u001b[0;34m,\u001b[0m \u001b[0minplace\u001b[0m\u001b[0;34m=\u001b[0m\u001b[0;32mTrue\u001b[0m\u001b[0;34m)\u001b[0m\u001b[0;34m\u001b[0m\u001b[0;34m\u001b[0m\u001b[0m\n\u001b[0m",
            "\u001b[0;32m/usr/local/lib/python3.6/dist-packages/pandas/core/frame.py\u001b[0m in \u001b[0;36mdrop\u001b[0;34m(self, labels, axis, index, columns, level, inplace, errors)\u001b[0m\n\u001b[1;32m   3995\u001b[0m             \u001b[0mlevel\u001b[0m\u001b[0;34m=\u001b[0m\u001b[0mlevel\u001b[0m\u001b[0;34m,\u001b[0m\u001b[0;34m\u001b[0m\u001b[0;34m\u001b[0m\u001b[0m\n\u001b[1;32m   3996\u001b[0m             \u001b[0minplace\u001b[0m\u001b[0;34m=\u001b[0m\u001b[0minplace\u001b[0m\u001b[0;34m,\u001b[0m\u001b[0;34m\u001b[0m\u001b[0;34m\u001b[0m\u001b[0m\n\u001b[0;32m-> 3997\u001b[0;31m             \u001b[0merrors\u001b[0m\u001b[0;34m=\u001b[0m\u001b[0merrors\u001b[0m\u001b[0;34m,\u001b[0m\u001b[0;34m\u001b[0m\u001b[0;34m\u001b[0m\u001b[0m\n\u001b[0m\u001b[1;32m   3998\u001b[0m         )\n\u001b[1;32m   3999\u001b[0m \u001b[0;34m\u001b[0m\u001b[0m\n",
            "\u001b[0;32m/usr/local/lib/python3.6/dist-packages/pandas/core/generic.py\u001b[0m in \u001b[0;36mdrop\u001b[0;34m(self, labels, axis, index, columns, level, inplace, errors)\u001b[0m\n\u001b[1;32m   3934\u001b[0m         \u001b[0;32mfor\u001b[0m \u001b[0maxis\u001b[0m\u001b[0;34m,\u001b[0m \u001b[0mlabels\u001b[0m \u001b[0;32min\u001b[0m \u001b[0maxes\u001b[0m\u001b[0;34m.\u001b[0m\u001b[0mitems\u001b[0m\u001b[0;34m(\u001b[0m\u001b[0;34m)\u001b[0m\u001b[0;34m:\u001b[0m\u001b[0;34m\u001b[0m\u001b[0;34m\u001b[0m\u001b[0m\n\u001b[1;32m   3935\u001b[0m             \u001b[0;32mif\u001b[0m \u001b[0mlabels\u001b[0m \u001b[0;32mis\u001b[0m \u001b[0;32mnot\u001b[0m \u001b[0;32mNone\u001b[0m\u001b[0;34m:\u001b[0m\u001b[0;34m\u001b[0m\u001b[0;34m\u001b[0m\u001b[0m\n\u001b[0;32m-> 3936\u001b[0;31m                 \u001b[0mobj\u001b[0m \u001b[0;34m=\u001b[0m \u001b[0mobj\u001b[0m\u001b[0;34m.\u001b[0m\u001b[0m_drop_axis\u001b[0m\u001b[0;34m(\u001b[0m\u001b[0mlabels\u001b[0m\u001b[0;34m,\u001b[0m \u001b[0maxis\u001b[0m\u001b[0;34m,\u001b[0m \u001b[0mlevel\u001b[0m\u001b[0;34m=\u001b[0m\u001b[0mlevel\u001b[0m\u001b[0;34m,\u001b[0m \u001b[0merrors\u001b[0m\u001b[0;34m=\u001b[0m\u001b[0merrors\u001b[0m\u001b[0;34m)\u001b[0m\u001b[0;34m\u001b[0m\u001b[0;34m\u001b[0m\u001b[0m\n\u001b[0m\u001b[1;32m   3937\u001b[0m \u001b[0;34m\u001b[0m\u001b[0m\n\u001b[1;32m   3938\u001b[0m         \u001b[0;32mif\u001b[0m \u001b[0minplace\u001b[0m\u001b[0;34m:\u001b[0m\u001b[0;34m\u001b[0m\u001b[0;34m\u001b[0m\u001b[0m\n",
            "\u001b[0;32m/usr/local/lib/python3.6/dist-packages/pandas/core/generic.py\u001b[0m in \u001b[0;36m_drop_axis\u001b[0;34m(self, labels, axis, level, errors)\u001b[0m\n\u001b[1;32m   3968\u001b[0m                 \u001b[0mnew_axis\u001b[0m \u001b[0;34m=\u001b[0m \u001b[0maxis\u001b[0m\u001b[0;34m.\u001b[0m\u001b[0mdrop\u001b[0m\u001b[0;34m(\u001b[0m\u001b[0mlabels\u001b[0m\u001b[0;34m,\u001b[0m \u001b[0mlevel\u001b[0m\u001b[0;34m=\u001b[0m\u001b[0mlevel\u001b[0m\u001b[0;34m,\u001b[0m \u001b[0merrors\u001b[0m\u001b[0;34m=\u001b[0m\u001b[0merrors\u001b[0m\u001b[0;34m)\u001b[0m\u001b[0;34m\u001b[0m\u001b[0;34m\u001b[0m\u001b[0m\n\u001b[1;32m   3969\u001b[0m             \u001b[0;32melse\u001b[0m\u001b[0;34m:\u001b[0m\u001b[0;34m\u001b[0m\u001b[0;34m\u001b[0m\u001b[0m\n\u001b[0;32m-> 3970\u001b[0;31m                 \u001b[0mnew_axis\u001b[0m \u001b[0;34m=\u001b[0m \u001b[0maxis\u001b[0m\u001b[0;34m.\u001b[0m\u001b[0mdrop\u001b[0m\u001b[0;34m(\u001b[0m\u001b[0mlabels\u001b[0m\u001b[0;34m,\u001b[0m \u001b[0merrors\u001b[0m\u001b[0;34m=\u001b[0m\u001b[0merrors\u001b[0m\u001b[0;34m)\u001b[0m\u001b[0;34m\u001b[0m\u001b[0;34m\u001b[0m\u001b[0m\n\u001b[0m\u001b[1;32m   3971\u001b[0m             \u001b[0mresult\u001b[0m \u001b[0;34m=\u001b[0m \u001b[0mself\u001b[0m\u001b[0;34m.\u001b[0m\u001b[0mreindex\u001b[0m\u001b[0;34m(\u001b[0m\u001b[0;34m**\u001b[0m\u001b[0;34m{\u001b[0m\u001b[0maxis_name\u001b[0m\u001b[0;34m:\u001b[0m \u001b[0mnew_axis\u001b[0m\u001b[0;34m}\u001b[0m\u001b[0;34m)\u001b[0m\u001b[0;34m\u001b[0m\u001b[0;34m\u001b[0m\u001b[0m\n\u001b[1;32m   3972\u001b[0m \u001b[0;34m\u001b[0m\u001b[0m\n",
            "\u001b[0;32m/usr/local/lib/python3.6/dist-packages/pandas/core/indexes/base.py\u001b[0m in \u001b[0;36mdrop\u001b[0;34m(self, labels, errors)\u001b[0m\n\u001b[1;32m   5016\u001b[0m         \u001b[0;32mif\u001b[0m \u001b[0mmask\u001b[0m\u001b[0;34m.\u001b[0m\u001b[0many\u001b[0m\u001b[0;34m(\u001b[0m\u001b[0;34m)\u001b[0m\u001b[0;34m:\u001b[0m\u001b[0;34m\u001b[0m\u001b[0;34m\u001b[0m\u001b[0m\n\u001b[1;32m   5017\u001b[0m             \u001b[0;32mif\u001b[0m \u001b[0merrors\u001b[0m \u001b[0;34m!=\u001b[0m \u001b[0;34m\"ignore\"\u001b[0m\u001b[0;34m:\u001b[0m\u001b[0;34m\u001b[0m\u001b[0;34m\u001b[0m\u001b[0m\n\u001b[0;32m-> 5018\u001b[0;31m                 \u001b[0;32mraise\u001b[0m \u001b[0mKeyError\u001b[0m\u001b[0;34m(\u001b[0m\u001b[0;34mf\"{labels[mask]} not found in axis\"\u001b[0m\u001b[0;34m)\u001b[0m\u001b[0;34m\u001b[0m\u001b[0;34m\u001b[0m\u001b[0m\n\u001b[0m\u001b[1;32m   5019\u001b[0m             \u001b[0mindexer\u001b[0m \u001b[0;34m=\u001b[0m \u001b[0mindexer\u001b[0m\u001b[0;34m[\u001b[0m\u001b[0;34m~\u001b[0m\u001b[0mmask\u001b[0m\u001b[0;34m]\u001b[0m\u001b[0;34m\u001b[0m\u001b[0;34m\u001b[0m\u001b[0m\n\u001b[1;32m   5020\u001b[0m         \u001b[0;32mreturn\u001b[0m \u001b[0mself\u001b[0m\u001b[0;34m.\u001b[0m\u001b[0mdelete\u001b[0m\u001b[0;34m(\u001b[0m\u001b[0mindexer\u001b[0m\u001b[0;34m)\u001b[0m\u001b[0;34m\u001b[0m\u001b[0;34m\u001b[0m\u001b[0m\n",
            "\u001b[0;31mKeyError\u001b[0m: \"['id' 'y'] not found in axis\""
          ]
        }
      ]
    },
    {
      "cell_type": "code",
      "metadata": {
        "id": "7AAG_mLG_JGR",
        "colab_type": "code",
        "colab": {}
      },
      "source": [
        "submission_test['y'] = model_obj.predict(submission_test)"
      ],
      "execution_count": null,
      "outputs": []
    },
    {
      "cell_type": "code",
      "metadata": {
        "id": "wVpf-Ix9_Kz9",
        "colab_type": "code",
        "colab": {}
      },
      "source": [
        "submission_test.reset_index(drop=True, inplace=True)"
      ],
      "execution_count": null,
      "outputs": []
    },
    {
      "cell_type": "code",
      "metadata": {
        "id": "7F_P8VZpJcue",
        "colab_type": "code",
        "colab": {}
      },
      "source": [
        "submission_test['id'] = list(submission_test['y'].index + 1)"
      ],
      "execution_count": null,
      "outputs": []
    },
    {
      "cell_type": "code",
      "metadata": {
        "id": "IE6iMLGYJvXA",
        "colab_type": "code",
        "colab": {}
      },
      "source": [
        "submission_test[['id', 'y']].to_csv('submission_csv.csv', index= False)"
      ],
      "execution_count": null,
      "outputs": []
    },
    {
      "cell_type": "code",
      "metadata": {
        "id": "9JZcpXywKVXv",
        "colab_type": "code",
        "colab": {}
      },
      "source": [
        "!kaggle competitions submit -c bank-marketing-uci -f submission_csv.csv -m \"First Submit\""
      ],
      "execution_count": null,
      "outputs": []
    },
    {
      "cell_type": "code",
      "metadata": {
        "id": "S-suA6F7KuHV",
        "colab_type": "code",
        "colab": {}
      },
      "source": [
        ""
      ],
      "execution_count": null,
      "outputs": []
    }
  ]
}